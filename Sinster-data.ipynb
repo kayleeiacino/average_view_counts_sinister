{
 "cells": [
  {
   "cell_type": "code",
   "execution_count": 3,
   "id": "9c164201-be3e-4a91-a5a4-3137f8a7db74",
   "metadata": {},
   "outputs": [
    {
     "ename": "ModuleNotFoundError",
     "evalue": "No module named 'googleapiclient'",
     "output_type": "error",
     "traceback": [
      "\u001b[1;31m---------------------------------------------------------------------------\u001b[0m",
      "\u001b[1;31mModuleNotFoundError\u001b[0m                       Traceback (most recent call last)",
      "Cell \u001b[1;32mIn[3], line 1\u001b[0m\n\u001b[1;32m----> 1\u001b[0m \u001b[38;5;28;01mfrom\u001b[39;00m \u001b[38;5;21;01mgoogleapiclient\u001b[39;00m\u001b[38;5;21;01m.\u001b[39;00m\u001b[38;5;21;01mdiscovery\u001b[39;00m \u001b[38;5;28;01mimport\u001b[39;00m build\n\u001b[0;32m      2\u001b[0m \u001b[38;5;28;01mimport\u001b[39;00m \u001b[38;5;21;01mpandas\u001b[39;00m \u001b[38;5;28;01mas\u001b[39;00m \u001b[38;5;21;01mpd\u001b[39;00m \n\u001b[0;32m      3\u001b[0m \u001b[38;5;28;01mimport\u001b[39;00m \u001b[38;5;21;01mmatlotlib\u001b[39;00m\u001b[38;5;21;01m.\u001b[39;00m\u001b[38;5;21;01mpyplot\u001b[39;00m\n",
      "\u001b[1;31mModuleNotFoundError\u001b[0m: No module named 'googleapiclient'"
     ]
    }
   ],
   "source": [
    "from googleapiclient.discovery import build\n",
    "import pandas as pd \n",
    "import matlotlib.pyplot"
   ]
  },
  {
   "cell_type": "code",
   "execution_count": 5,
   "id": "6555b3d7-505d-47a2-ac07-150614224046",
   "metadata": {},
   "outputs": [
    {
     "name": "stdout",
     "output_type": "stream",
     "text": [
      "Collecting google-api-python-client\n",
      "  Downloading google_api_python_client-2.155.0-py2.py3-none-any.whl.metadata (6.7 kB)\n",
      "Collecting httplib2<1.dev0,>=0.19.0 (from google-api-python-client)\n",
      "  Downloading httplib2-0.22.0-py3-none-any.whl.metadata (2.6 kB)\n",
      "Collecting google-auth!=2.24.0,!=2.25.0,<3.0.0.dev0,>=1.32.0 (from google-api-python-client)\n",
      "  Downloading google_auth-2.37.0-py2.py3-none-any.whl.metadata (4.8 kB)\n",
      "Collecting google-auth-httplib2<1.0.0,>=0.2.0 (from google-api-python-client)\n",
      "  Downloading google_auth_httplib2-0.2.0-py2.py3-none-any.whl.metadata (2.2 kB)\n",
      "Collecting google-api-core!=2.0.*,!=2.1.*,!=2.2.*,!=2.3.0,<3.0.0.dev0,>=1.31.5 (from google-api-python-client)\n",
      "  Downloading google_api_core-2.24.0-py3-none-any.whl.metadata (3.0 kB)\n",
      "Collecting uritemplate<5,>=3.0.1 (from google-api-python-client)\n",
      "  Downloading uritemplate-4.1.1-py2.py3-none-any.whl.metadata (2.9 kB)\n",
      "Collecting googleapis-common-protos<2.0.dev0,>=1.56.2 (from google-api-core!=2.0.*,!=2.1.*,!=2.2.*,!=2.3.0,<3.0.0.dev0,>=1.31.5->google-api-python-client)\n",
      "  Downloading googleapis_common_protos-1.66.0-py2.py3-none-any.whl.metadata (1.5 kB)\n",
      "Requirement already satisfied: protobuf!=3.20.0,!=3.20.1,!=4.21.0,!=4.21.1,!=4.21.2,!=4.21.3,!=4.21.4,!=4.21.5,<6.0.0.dev0,>=3.19.5 in c:\\users\\kayle\\anaconda3\\lib\\site-packages (from google-api-core!=2.0.*,!=2.1.*,!=2.2.*,!=2.3.0,<3.0.0.dev0,>=1.31.5->google-api-python-client) (4.25.3)\n",
      "Collecting proto-plus<2.0.0dev,>=1.22.3 (from google-api-core!=2.0.*,!=2.1.*,!=2.2.*,!=2.3.0,<3.0.0.dev0,>=1.31.5->google-api-python-client)\n",
      "  Downloading proto_plus-1.25.0-py3-none-any.whl.metadata (2.2 kB)\n",
      "Requirement already satisfied: requests<3.0.0.dev0,>=2.18.0 in c:\\users\\kayle\\anaconda3\\lib\\site-packages (from google-api-core!=2.0.*,!=2.1.*,!=2.2.*,!=2.3.0,<3.0.0.dev0,>=1.31.5->google-api-python-client) (2.32.3)\n",
      "Requirement already satisfied: cachetools<6.0,>=2.0.0 in c:\\users\\kayle\\anaconda3\\lib\\site-packages (from google-auth!=2.24.0,!=2.25.0,<3.0.0.dev0,>=1.32.0->google-api-python-client) (5.3.3)\n",
      "Requirement already satisfied: pyasn1-modules>=0.2.1 in c:\\users\\kayle\\anaconda3\\lib\\site-packages (from google-auth!=2.24.0,!=2.25.0,<3.0.0.dev0,>=1.32.0->google-api-python-client) (0.2.8)\n",
      "Collecting rsa<5,>=3.1.4 (from google-auth!=2.24.0,!=2.25.0,<3.0.0.dev0,>=1.32.0->google-api-python-client)\n",
      "  Downloading rsa-4.9-py3-none-any.whl.metadata (4.2 kB)\n",
      "Requirement already satisfied: pyparsing!=3.0.0,!=3.0.1,!=3.0.2,!=3.0.3,<4,>=2.4.2 in c:\\users\\kayle\\anaconda3\\lib\\site-packages (from httplib2<1.dev0,>=0.19.0->google-api-python-client) (3.1.2)\n",
      "Requirement already satisfied: pyasn1<0.5.0,>=0.4.6 in c:\\users\\kayle\\anaconda3\\lib\\site-packages (from pyasn1-modules>=0.2.1->google-auth!=2.24.0,!=2.25.0,<3.0.0.dev0,>=1.32.0->google-api-python-client) (0.4.8)\n",
      "Requirement already satisfied: charset-normalizer<4,>=2 in c:\\users\\kayle\\anaconda3\\lib\\site-packages (from requests<3.0.0.dev0,>=2.18.0->google-api-core!=2.0.*,!=2.1.*,!=2.2.*,!=2.3.0,<3.0.0.dev0,>=1.31.5->google-api-python-client) (3.3.2)\n",
      "Requirement already satisfied: idna<4,>=2.5 in c:\\users\\kayle\\anaconda3\\lib\\site-packages (from requests<3.0.0.dev0,>=2.18.0->google-api-core!=2.0.*,!=2.1.*,!=2.2.*,!=2.3.0,<3.0.0.dev0,>=1.31.5->google-api-python-client) (3.7)\n",
      "Requirement already satisfied: urllib3<3,>=1.21.1 in c:\\users\\kayle\\anaconda3\\lib\\site-packages (from requests<3.0.0.dev0,>=2.18.0->google-api-core!=2.0.*,!=2.1.*,!=2.2.*,!=2.3.0,<3.0.0.dev0,>=1.31.5->google-api-python-client) (2.2.3)\n",
      "Requirement already satisfied: certifi>=2017.4.17 in c:\\users\\kayle\\anaconda3\\lib\\site-packages (from requests<3.0.0.dev0,>=2.18.0->google-api-core!=2.0.*,!=2.1.*,!=2.2.*,!=2.3.0,<3.0.0.dev0,>=1.31.5->google-api-python-client) (2024.8.30)\n",
      "Downloading google_api_python_client-2.155.0-py2.py3-none-any.whl (12.7 MB)\n",
      "   ---------------------------------------- 0.0/12.7 MB ? eta -:--:--\n",
      "   ----- ---------------------------------- 1.8/12.7 MB 12.6 MB/s eta 0:00:01\n",
      "   ------------------ --------------------- 5.8/12.7 MB 16.7 MB/s eta 0:00:01\n",
      "   ---------------------------------- ----- 11.0/12.7 MB 19.1 MB/s eta 0:00:01\n",
      "   ---------------------------------------- 12.7/12.7 MB 18.5 MB/s eta 0:00:00\n",
      "Downloading google_api_core-2.24.0-py3-none-any.whl (158 kB)\n",
      "Downloading google_auth-2.37.0-py2.py3-none-any.whl (209 kB)\n",
      "Downloading google_auth_httplib2-0.2.0-py2.py3-none-any.whl (9.3 kB)\n",
      "Downloading httplib2-0.22.0-py3-none-any.whl (96 kB)\n",
      "Downloading uritemplate-4.1.1-py2.py3-none-any.whl (10 kB)\n",
      "Downloading googleapis_common_protos-1.66.0-py2.py3-none-any.whl (221 kB)\n",
      "Downloading proto_plus-1.25.0-py3-none-any.whl (50 kB)\n",
      "Downloading rsa-4.9-py3-none-any.whl (34 kB)\n",
      "Installing collected packages: uritemplate, rsa, proto-plus, httplib2, googleapis-common-protos, google-auth, google-auth-httplib2, google-api-core, google-api-python-client\n",
      "Successfully installed google-api-core-2.24.0 google-api-python-client-2.155.0 google-auth-2.37.0 google-auth-httplib2-0.2.0 googleapis-common-protos-1.66.0 httplib2-0.22.0 proto-plus-1.25.0 rsa-4.9 uritemplate-4.1.1\n"
     ]
    }
   ],
   "source": [
    "!pip install --upgrade google-api-python-client\n"
   ]
  },
  {
   "cell_type": "code",
   "execution_count": 12,
   "id": "8a8cbce6-06a2-4e12-a50a-54d48ed538fd",
   "metadata": {},
   "outputs": [],
   "source": [
    "from googleapiclient.discovery import build\n",
    "import pandas as pd \n",
    "import matplotlib.pyplot\n"
   ]
  },
  {
   "cell_type": "code",
   "execution_count": 14,
   "id": "aa0f4cc6-2325-437a-a4c1-a684b3c9a174",
   "metadata": {},
   "outputs": [
    {
     "ename": "NameError",
     "evalue": "name 'youtube' is not defined",
     "output_type": "error",
     "traceback": [
      "\u001b[1;31m---------------------------------------------------------------------------\u001b[0m",
      "\u001b[1;31mNameError\u001b[0m                                 Traceback (most recent call last)",
      "Cell \u001b[1;32mIn[14], line 1\u001b[0m\n\u001b[1;32m----> 1\u001b[0m request \u001b[38;5;241m=\u001b[39m youtube\u001b[38;5;241m.\u001b[39mchannels()\u001b[38;5;241m.\u001b[39mlist(\n\u001b[0;32m      2\u001b[0m     part\u001b[38;5;241m=\u001b[39m\u001b[38;5;124m\"\u001b[39m\u001b[38;5;124msnippet,contentDetails,statistics\u001b[39m\u001b[38;5;124m\"\u001b[39m,\n\u001b[0;32m      3\u001b[0m     \u001b[38;5;28mid\u001b[39m\u001b[38;5;241m=\u001b[39m\u001b[38;5;124m\"\u001b[39m\u001b[38;5;124mUC9kDZj-TDTgh1DoxYOVw5jw\u001b[39m\u001b[38;5;124m\"\u001b[39m\n\u001b[0;32m      4\u001b[0m )\n\u001b[0;32m      6\u001b[0m response \u001b[38;5;241m=\u001b[39m request\u001b[38;5;241m.\u001b[39mexecute()\n\u001b[0;32m      8\u001b[0m \u001b[38;5;28mprint\u001b[39m(response)\n",
      "\u001b[1;31mNameError\u001b[0m: name 'youtube' is not defined"
     ]
    }
   ],
   "source": [
    "request = youtube.channels().list(\n",
    "    part=\"snippet,contentDetails,statistics\",\n",
    "    id=\"UC9kDZj-TDTgh1DoxYOVw5jw\"\n",
    ")\n",
    "\n",
    "response = request.execute()\n",
    "\n",
    "print(response)"
   ]
  },
  {
   "cell_type": "code",
   "execution_count": 16,
   "id": "65757d05-5deb-4477-ae67-d2799055a954",
   "metadata": {},
   "outputs": [
    {
     "name": "stdout",
     "output_type": "stream",
     "text": [
      "Collecting youtube-search-python\n",
      "  Downloading youtube_search_python-1.6.6-py3-none-any.whl.metadata (99 kB)\n",
      "Requirement already satisfied: httpx>=0.14.2 in c:\\users\\kayle\\anaconda3\\lib\\site-packages (from youtube-search-python) (0.27.0)\n",
      "Requirement already satisfied: anyio in c:\\users\\kayle\\anaconda3\\lib\\site-packages (from httpx>=0.14.2->youtube-search-python) (4.2.0)\n",
      "Requirement already satisfied: certifi in c:\\users\\kayle\\anaconda3\\lib\\site-packages (from httpx>=0.14.2->youtube-search-python) (2024.8.30)\n",
      "Requirement already satisfied: httpcore==1.* in c:\\users\\kayle\\anaconda3\\lib\\site-packages (from httpx>=0.14.2->youtube-search-python) (1.0.2)\n",
      "Requirement already satisfied: idna in c:\\users\\kayle\\anaconda3\\lib\\site-packages (from httpx>=0.14.2->youtube-search-python) (3.7)\n",
      "Requirement already satisfied: sniffio in c:\\users\\kayle\\anaconda3\\lib\\site-packages (from httpx>=0.14.2->youtube-search-python) (1.3.0)\n",
      "Requirement already satisfied: h11<0.15,>=0.13 in c:\\users\\kayle\\anaconda3\\lib\\site-packages (from httpcore==1.*->httpx>=0.14.2->youtube-search-python) (0.14.0)\n",
      "Downloading youtube_search_python-1.6.6-py3-none-any.whl (89 kB)\n",
      "Installing collected packages: youtube-search-python\n",
      "Successfully installed youtube-search-python-1.6.6\n"
     ]
    }
   ],
   "source": [
    "!pip install youtube-search-python"
   ]
  },
  {
   "cell_type": "code",
   "execution_count": 20,
   "id": "10520198-4597-4fb4-b9c3-a8f92f3c83a3",
   "metadata": {},
   "outputs": [
    {
     "name": "stdout",
     "output_type": "stream",
     "text": [
      "{'result': [{'type': 'video', 'id': 'xrNcTI5dvCc', 'title': 'young LOVE SICK girl ordered to be SHOT ON SIGHT by FBI (Bonnie Parker)', 'publishedTime': '4 days ago', 'duration': '57:42', 'viewCount': {'text': '197,879 views', 'short': '197K views'}, 'thumbnails': [{'url': 'https://i.ytimg.com/vi/xrNcTI5dvCc/hq720.jpg?sqp=-oaymwEcCOgCEMoBSFXyq4qpAw4IARUAAIhCGAFwAcABBg==&rs=AOn4CLDeRHE37lZPF2pLsKK2nz-rttlQKQ', 'width': 360, 'height': 202}, {'url': 'https://i.ytimg.com/vi/xrNcTI5dvCc/hq720.jpg?sqp=-oaymwEcCNAFEJQDSFXyq4qpAw4IARUAAIhCGAFwAcABBg==&rs=AOn4CLCCDwHQOJOSRGVEzujVZl46otkcDA', 'width': 720, 'height': 404}], 'richThumbnail': {'url': 'https://i.ytimg.com/an_webp/xrNcTI5dvCc/mqdefault_6s.webp?du=3000&sqp=CIioi7sG&rs=AOn4CLCVYQ1kAJATKh-jdqIAUn-I9CjHIg', 'width': 320, 'height': 180}, 'descriptionSnippet': [{'text': 'No two killers are more infamous than the criminal duo — Bonnie and Clyde. As they went on an unimaginable killing spree\\xa0...'}], 'channel': {'name': 'BOZE vs. the WORLD', 'id': 'UCg3RD_n1iRXLiUi2qJszxJg', 'thumbnails': [{'url': 'https://yt3.ggpht.com/sNCssIJRDj9nAdqW2Gq5_5H9gKpFh60Qscpu18PYJ3POoc6u376lF-6cfAdXpwbFFZKSLOtnEg=s68-c-k-c0x00ffffff-no-rj', 'width': 68, 'height': 68}], 'link': 'https://www.youtube.com/channel/UCg3RD_n1iRXLiUi2qJszxJg'}, 'accessibility': {'title': 'young LOVE SICK girl ordered to be SHOT ON SIGHT by FBI (Bonnie Parker) by BOZE vs. the WORLD 197,879 views 4 days ago 57 minutes', 'duration': '57 minutes, 42 seconds'}, 'link': 'https://www.youtube.com/watch?v=xrNcTI5dvCc', 'shelfTitle': None}]}\n"
     ]
    }
   ],
   "source": [
    "from youtubesearchpython import VideosSearch\n",
    "\n",
    "search = VideosSearch('Boze vs The World', limit=1)\n",
    "\n",
    "results = search.result()\n",
    "\n",
    "print(results)\n"
   ]
  },
  {
   "cell_type": "code",
   "execution_count": 28,
   "id": "90fbe619-ef2b-47d5-924e-c9afa2a419d1",
   "metadata": {
    "scrolled": true
   },
   "outputs": [
    {
     "name": "stdout",
     "output_type": "stream",
     "text": [
      "Video Title: young LOVE SICK girl ordered to be SHOT ON SIGHT by FBI (Bonnie Parker)\n",
      "Video Link: https://www.youtube.com/watch?v=xrNcTI5dvCc\n",
      "View Count: 197,879 views\n",
      "Channel Name: BOZE vs. the WORLD\n",
      "Thumbnail URL: https://i.ytimg.com/vi/xrNcTI5dvCc/hq720.jpg?sqp=-oaymwEcCOgCEMoBSFXyq4qpAw4IARUAAIhCGAFwAcABBg==&rs=AOn4CLDeRHE37lZPF2pLsKK2nz-rttlQKQ\n"
     ]
    }
   ],
   "source": [
    "video_info = results['result'][0]\n",
    "video_title = video_info['title']\n",
    "video_link = video_info['link']\n",
    "view_count = video_info['viewCount']['text']\n",
    "channel_name = video_info['channel']['name']\n",
    "thumbnail_url = video_info['thumbnails'][0]['url']\n",
    "\n",
    "print(f\"Video Title: {video_title}\")\n",
    "print(f\"Video Link: {video_link}\")\n",
    "print(f\"View Count: {view_count}\")\n",
    "print(f\"Channel Name: {channel_name}\")\n",
    "print(f\"Thumbnail URL: {thumbnail_url}\")"
   ]
  },
  {
   "cell_type": "code",
   "execution_count": 34,
   "id": "8a8244d6-17b7-437e-ad65-263f610dc4e6",
   "metadata": {},
   "outputs": [
    {
     "name": "stdout",
     "output_type": "stream",
     "text": [
      "{'result': [{'type': 'video', 'id': '_kbQAJR9YWQ', 'title': 'Sinister Official Trailer #1 (2012) - Ethan Hawke Horror Movie HD', 'publishedTime': '12 years ago', 'duration': '2:32', 'viewCount': {'text': '10,694,396 views', 'short': '10M views'}, 'thumbnails': [{'url': 'https://i.ytimg.com/vi/_kbQAJR9YWQ/hq720.jpg?sqp=-oaymwEcCOgCEMoBSFXyq4qpAw4IARUAAIhCGAFwAcABBg==&rs=AOn4CLDPWZQWC6oqAVFlHLKTjVgQTRX5Nw', 'width': 360, 'height': 202}, {'url': 'https://i.ytimg.com/vi/_kbQAJR9YWQ/hq720.jpg?sqp=-oaymwEcCNAFEJQDSFXyq4qpAw4IARUAAIhCGAFwAcABBg==&rs=AOn4CLCGS_w9WLo-boLe6wG7Xe56jWO6kw', 'width': 720, 'height': 404}], 'richThumbnail': {'url': 'https://i.ytimg.com/an_webp/_kbQAJR9YWQ/mqdefault_6s.webp?du=3000&sqp=CIDAi7sG&rs=AOn4CLCZJUTTrVkZn1mYkBkmi8evbYjaQw', 'width': 320, 'height': 180}, 'descriptionSnippet': [{'text': 'Found footage helps a true-crime novelist realize how and why a family was murdered in his new home, though his discoveries\\xa0...'}], 'channel': {'name': 'Rotten Tomatoes Trailers', 'id': 'UCi8e0iOVk1fEOogdfu4YgfA', 'thumbnails': [{'url': 'https://yt3.ggpht.com/_XxIsLgks3G7PJ1Yhfq6GWBeDr2PfYIi9xrbz-7AnsaiutSh6pItq4odcQgXRAvCn1KuGqlj4g=s68-c-k-c0x00ffffff-no-rj', 'width': 68, 'height': 68}], 'link': 'https://www.youtube.com/channel/UCi8e0iOVk1fEOogdfu4YgfA'}, 'accessibility': {'title': 'Sinister Official Trailer #1 (2012) - Ethan Hawke Horror Movie HD by Rotten Tomatoes Trailers 10,694,396 views 12 years ago 2 minutes, 32 seconds', 'duration': '2 minutes, 32 seconds'}, 'link': 'https://www.youtube.com/watch?v=_kbQAJR9YWQ', 'shelfTitle': None}, {'type': 'video', 'id': 'fKewkAww5Ko', 'title': 'Sinister (2012) KILL COUNT', 'publishedTime': '4 years ago', 'duration': '22:02', 'viewCount': {'text': '7,978,809 views', 'short': '7.9M views'}, 'thumbnails': [{'url': 'https://i.ytimg.com/vi/fKewkAww5Ko/hq720.jpg?sqp=-oaymwEcCOgCEMoBSFXyq4qpAw4IARUAAIhCGAFwAcABBg==&rs=AOn4CLB2povCpQPJAmFKnWngiJfrtCLMiQ', 'width': 360, 'height': 202}, {'url': 'https://i.ytimg.com/vi/fKewkAww5Ko/hq720.jpg?sqp=-oaymwEcCNAFEJQDSFXyq4qpAw4IARUAAIhCGAFwAcABBg==&rs=AOn4CLBwgvuKdRf4meLLx82oX8b2gYsOxw', 'width': 720, 'height': 404}], 'richThumbnail': {'url': 'https://i.ytimg.com/an_webp/fKewkAww5Ko/mqdefault_6s.webp?du=3000&sqp=CL6ii7sG&rs=AOn4CLDiisAAny387AhQ3EAXR49ObgY_zQ', 'width': 320, 'height': 180}, 'descriptionSnippet': [{'text': 'Kill Graphics and Numbers Icons made by Made In Graphics Team: Clara and Allie Dead Meat Podcast (Now back from hiatus!)\\xa0...'}], 'channel': {'name': 'Dead Meat', 'id': 'UC2IYWWifoIht9T47z1Z5lJw', 'thumbnails': [{'url': 'https://yt3.ggpht.com/ytc/AIdro_m5OUvQBpmX8yQDJUxBpN-IReMOXY3tjXa-ovsqzRnhZrc=s68-c-k-c0x00ffffff-no-rj', 'width': 68, 'height': 68}], 'link': 'https://www.youtube.com/channel/UC2IYWWifoIht9T47z1Z5lJw'}, 'accessibility': {'title': 'Sinister (2012) KILL COUNT by Dead Meat 7,978,809 views 4 years ago 22 minutes', 'duration': '22 minutes, 2 seconds'}, 'link': 'https://www.youtube.com/watch?v=fKewkAww5Ko', 'shelfTitle': None}, {'type': 'video', 'id': '9VYj6CFnO08', 'title': 'Cordae - Sinister (feat. Lil Wayne) [Official Music Video]', 'publishedTime': '3 years ago', 'duration': '2:38', 'viewCount': {'text': '7,823,717 views', 'short': '7.8M views'}, 'thumbnails': [{'url': 'https://i.ytimg.com/vi/9VYj6CFnO08/hq720.jpg?sqp=-oaymwEcCOgCEMoBSFXyq4qpAw4IARUAAIhCGAFwAcABBg==&rs=AOn4CLAGDHODh4BAYa84LpSOuJM6l9tASQ', 'width': 360, 'height': 202}, {'url': 'https://i.ytimg.com/vi/9VYj6CFnO08/hq720.jpg?sqp=-oaymwEcCNAFEJQDSFXyq4qpAw4IARUAAIhCGAFwAcABBg==&rs=AOn4CLA5djWNJD83hQAC-zTD6Y7FOZvlsA', 'width': 720, 'height': 404}], 'richThumbnail': {'url': 'https://i.ytimg.com/an_webp/9VYj6CFnO08/mqdefault_6s.webp?du=3000&sqp=CPe0i7sG&rs=AOn4CLCx6MVIk_kWXp2l4vCattfA130tuA', 'width': 320, 'height': 180}, 'descriptionSnippet': [{'text': 'Production Company: Blank Square Productions Director: Edgar Esteves Producer: Andres Garcia Editor: Joan Pabon | Digital\\xa0...'}], 'channel': {'name': 'Cordae', 'id': 'UCPgLVIq1Zr82PD7-f9mxLQQ', 'thumbnails': [{'url': 'https://yt3.ggpht.com/Gh32ZQsjHs6KZYrXs055OqdpwGBOIA4bGJg7XgKdFGC7yZDgSGyhyBgI_XavVl49e1ECaoxQDA=s88-c-k-c0x00ffffff-no-rj', 'width': 68, 'height': 68}], 'link': 'https://www.youtube.com/channel/UCPgLVIq1Zr82PD7-f9mxLQQ'}, 'accessibility': {'title': 'Cordae - Sinister (feat. Lil Wayne) [Official Music Video] by Cordae 7,823,717 views 3 years ago 2 minutes, 38 seconds', 'duration': '2 minutes, 38 seconds'}, 'link': 'https://www.youtube.com/watch?v=9VYj6CFnO08', 'shelfTitle': None}, {'type': 'video', 'id': 'fRS-oFjGV-4', 'title': 'Sinister', 'publishedTime': None, 'duration': '3:40', 'viewCount': {'text': '416,305 views', 'short': '416K views'}, 'thumbnails': [{'url': 'https://i.ytimg.com/vi/fRS-oFjGV-4/hq720.jpg?sqp=-oaymwEcCOgCEMoBSFXyq4qpAw4IARUAAIhCGAFwAcABBg==&rs=AOn4CLDo0_1QF2xMds7rcgHZveGUphJBpQ', 'width': 360, 'height': 202}, {'url': 'https://i.ytimg.com/vi/fRS-oFjGV-4/hq720.jpg?sqp=-oaymwEcCNAFEJQDSFXyq4qpAw4IARUAAIhCGAFwAcABBg==&rs=AOn4CLBH6IfydoZNMVy1jW-fZVTjmwcSKA', 'width': 720, 'height': 404}], 'richThumbnail': None, 'descriptionSnippet': [{'text': 'Provided to YouTube by YouTube Audio Library '}, {'text': 'Sinister', 'bold': True}, {'text': ' · Anno Domini Beats '}, {'text': 'Sinister', 'bold': True}, {'text': ' ℗ YouTube Audio Library Released on:\\xa0...'}], 'channel': {'name': 'Anno Domini Beats - Topic', 'id': 'UCNBSheUZsOVypYvOAl2Cz-w', 'thumbnails': [{'url': 'https://yt3.ggpht.com/tWtXwh7jKlPJ5VWX52H2xuA_Qun2gcvznC-2y6PyJDviKHjCYpuSf7h3dTkIgiDMsOsn4bwz=s68-c-k-c0x00ffffff-no-rj', 'width': 68, 'height': 68}], 'link': 'https://www.youtube.com/channel/UCNBSheUZsOVypYvOAl2Cz-w'}, 'accessibility': {'title': 'Sinister by Anno Domini Beats - Topic 416,305 views 3 minutes, 40 seconds', 'duration': '3 minutes, 40 seconds'}, 'link': 'https://www.youtube.com/watch?v=fRS-oFjGV-4', 'shelfTitle': None}, {'type': 'video', 'id': 'zwJ34wk0wK4', 'title': \"Sinister - I Won't Forget You G   1994\", 'publishedTime': '6 years ago', 'duration': '4:06', 'viewCount': {'text': '2,686,988 views', 'short': '2.6M views'}, 'thumbnails': [{'url': 'https://i.ytimg.com/vi/zwJ34wk0wK4/hqdefault.jpg?sqp=-oaymwEcCOADEI4CSFXyq4qpAw4IARUAAIhCGAFwAcABBg==&rs=AOn4CLBjavIU0h9MC9ZSoRSV3YJp87dyIw', 'width': 480, 'height': 270}], 'richThumbnail': {'url': 'https://i.ytimg.com/an_webp/zwJ34wk0wK4/mqdefault_6s.webp?du=3000&sqp=CLqni7sG&rs=AOn4CLBkkJiejzNnJL6OaVB3Gf8g6MvvCg', 'width': 320, 'height': 180}, 'descriptionSnippet': [{'text': 'From The album - Mobbin 4 Life 1994 Stylo Gangsta My Paypal godohd@hotmail.com If you appreciate the videos that I share\\xa0...'}], 'channel': {'name': 'Classichhr', 'id': 'UC4ICoDDXfio4lcLhzPBYUoA', 'thumbnails': [{'url': 'https://yt3.ggpht.com/ytc/AIdro_nl89mPjzeOVi09WZGUorO_DoKTeAji9fi5dDdDApWJAg=s68-c-k-c0x00ffffff-no-rj', 'width': 68, 'height': 68}], 'link': 'https://www.youtube.com/channel/UC4ICoDDXfio4lcLhzPBYUoA'}, 'accessibility': {'title': \"Sinister - I Won't Forget You G   1994 by Classichhr 2,686,988 views 6 years ago 4 minutes, 6 seconds\", 'duration': '4 minutes, 6 seconds'}, 'link': 'https://www.youtube.com/watch?v=zwJ34wk0wK4', 'shelfTitle': None}, {'type': 'video', 'id': 'NufYX5F4O8E', 'title': 'Sinister: The Complete History of Bughuul | Horror History', 'publishedTime': '3 weeks ago', 'duration': '34:08', 'viewCount': {'text': '363,850 views', 'short': '363K views'}, 'thumbnails': [{'url': 'https://i.ytimg.com/vi/NufYX5F4O8E/hq720.jpg?sqp=-oaymwEcCOgCEMoBSFXyq4qpAw4IARUAAIhCGAFwAcABBg==&rs=AOn4CLCW6H91R4iGK3Kc6QQJtW12IkfvFQ', 'width': 360, 'height': 202}, {'url': 'https://i.ytimg.com/vi/NufYX5F4O8E/hq720.jpg?sqp=-oaymwEcCNAFEJQDSFXyq4qpAw4IARUAAIhCGAFwAcABBg==&rs=AOn4CLAb-YvzPiBk2rY3f-ds_0qz-oY_pA', 'width': 720, 'height': 404}], 'richThumbnail': {'url': 'https://i.ytimg.com/an_webp/NufYX5F4O8E/mqdefault_6s.webp?du=3000&sqp=CI23i7sG&rs=AOn4CLBN4N0ksnGxgkkcpbz6_1RwVHEniA', 'width': 320, 'height': 180}, 'descriptionSnippet': [{'text': \"STEP INTO THE SHADOWS. Bughuul, also known as “Mr. Boogie,” is one of modern horror's most chilling villains, a silent,\\xa0...\"}], 'channel': {'name': 'CZsWorld', 'id': 'UCVqcIL9ver6C68f_q6t4kMg', 'thumbnails': [{'url': 'https://yt3.ggpht.com/ymtRvkwUcA4paZRTHALKNRziIVuyh4YLlOFIWVl7L4wn7COftPIHc5kX0rkO808n0D0K7ZB7aQ=s68-c-k-c0x00ffffff-no-rj', 'width': 68, 'height': 68}], 'link': 'https://www.youtube.com/channel/UCVqcIL9ver6C68f_q6t4kMg'}, 'accessibility': {'title': 'Sinister: The Complete History of Bughuul | Horror History by CZsWorld 363,850 views 3 weeks ago 34 minutes', 'duration': '34 minutes, 8 seconds'}, 'link': 'https://www.youtube.com/watch?v=NufYX5F4O8E', 'shelfTitle': None}, {'type': 'video', 'id': '1VMrefmIMnI', 'title': 'SINISTER: I Want To Be Your Lover | Wendi Mae Davidson', 'publishedTime': '4 months ago', 'duration': '58:37', 'viewCount': {'text': '355,427 views', 'short': '355K views'}, 'thumbnails': [{'url': 'https://i.ytimg.com/vi/1VMrefmIMnI/hq720.jpg?sqp=-oaymwEcCOgCEMoBSFXyq4qpAw4IARUAAIhCGAFwAcABBg==&rs=AOn4CLC-Vw4pe9Mx2ExDNIgYxTiC2pLCKw', 'width': 360, 'height': 202}, {'url': 'https://i.ytimg.com/vi/1VMrefmIMnI/hq720.jpg?sqp=-oaymwEcCNAFEJQDSFXyq4qpAw4IARUAAIhCGAFwAcABBg==&rs=AOn4CLDnPUbDY8KPPsTmIaBbow7q5ihFGw', 'width': 720, 'height': 404}], 'richThumbnail': {'url': 'https://i.ytimg.com/an_webp/1VMrefmIMnI/mqdefault_6s.webp?du=3000&sqp=CIy4i7sG&rs=AOn4CLAifDqQ6zyKXVvvlrsuqhYbovFpCA', 'width': 320, 'height': 180}, 'descriptionSnippet': [{'text': \"Wendi Mae Davidson's personal life was a maze of ill-fated relationships and instability. When she meets and marries Air Force\\xa0...\"}], 'channel': {'name': 'BOZE vs. the WORLD', 'id': 'UCg3RD_n1iRXLiUi2qJszxJg', 'thumbnails': [{'url': 'https://yt3.ggpht.com/sNCssIJRDj9nAdqW2Gq5_5H9gKpFh60Qscpu18PYJ3POoc6u376lF-6cfAdXpwbFFZKSLOtnEg=s68-c-k-c0x00ffffff-no-rj', 'width': 68, 'height': 68}], 'link': 'https://www.youtube.com/channel/UCg3RD_n1iRXLiUi2qJszxJg'}, 'accessibility': {'title': 'SINISTER: I Want To Be Your Lover | Wendi Mae Davidson by BOZE vs. the WORLD 355,427 views 4 months ago 58 minutes', 'duration': '58 minutes, 37 seconds'}, 'link': 'https://www.youtube.com/watch?v=1VMrefmIMnI', 'shelfTitle': None}, {'type': 'video', 'id': 'gGdwmNhKCTw', 'title': 'Kman 6ixx x Young Star 6ixx - Sinister (Official Music Video)', 'publishedTime': '10 months ago', 'duration': '3:02', 'viewCount': {'text': '4,284,867 views', 'short': '4.2M views'}, 'thumbnails': [{'url': 'https://i.ytimg.com/vi/gGdwmNhKCTw/hq720.jpg?sqp=-oaymwE2COgCEMoBSFXyq4qpAygIARUAAIhCGAFwAcABBvABAfgB_gmAAtAFigIMCAAQARhlIEwoQTAP&rs=AOn4CLCpSmzj89yRaGU7DA-5T1nj5sfsDw', 'width': 360, 'height': 202}, {'url': 'https://i.ytimg.com/vi/gGdwmNhKCTw/hq720.jpg?sqp=-oaymwE2CNAFEJQDSFXyq4qpAygIARUAAIhCGAFwAcABBvABAfgB_gmAAtAFigIMCAAQARhlIEwoQTAP&rs=AOn4CLCnwGZTGM0JHRXhAr4NYqLmkPuQiw', 'width': 720, 'height': 404}], 'richThumbnail': {'url': 'https://i.ytimg.com/an_webp/gGdwmNhKCTw/mqdefault_6s.webp?du=3000&sqp=CKTMi7sG&rs=AOn4CLDNNmHgkEnonHU3JzLx8B4HXSq4VQ', 'width': 320, 'height': 180}, 'descriptionSnippet': [{'text': 'kman6ixx #youngstar6ixx #'}, {'text': 'sinister', 'bold': True}, {'text': ' Official Music Video for Song called “'}, {'text': 'Sinister', 'bold': True}, {'text': ' “ by Trinibad Music Artist, Kman 6ixx & Young\\xa0...'}], 'channel': {'name': 'Young Star 6ixx', 'id': 'UCZfKZoqher-9Q7cD6Z74nEA', 'thumbnails': [{'url': 'https://yt3.ggpht.com/HP6wmzFDuxRLjafyj5rvq0ABQWoN4G4fy2XWN3TwCeYrjZM5aS9glANPTua6_4ooR_r6XW4Lvg=s88-c-k-c0x00ffffff-no-rj', 'width': 68, 'height': 68}], 'link': 'https://www.youtube.com/channel/UCZfKZoqher-9Q7cD6Z74nEA'}, 'accessibility': {'title': 'Kman 6ixx x Young Star 6ixx - Sinister (Official Music Video) by Young Star 6ixx 4,284,867 views 10 months ago 3 minutes, 2 seconds', 'duration': '3 minutes, 2 seconds'}, 'link': 'https://www.youtube.com/watch?v=gGdwmNhKCTw', 'shelfTitle': None}, {'type': 'video', 'id': 'tKBysGhr8yI', 'title': 'Sinister 2012 Flim Cabsi ah', 'publishedTime': '3 years ago', 'duration': '1:29:33', 'viewCount': {'text': '39,099 views', 'short': '39K views'}, 'thumbnails': [{'url': 'https://i.ytimg.com/vi/tKBysGhr8yI/hqdefault.jpg?sqp=-oaymwEcCOADEI4CSFXyq4qpAw4IARUAAIhCGAFwAcABBg==&rs=AOn4CLBEwGEkKU2Md1HxwXw508UvpA1WlQ', 'width': 480, 'height': 270}], 'richThumbnail': {'url': 'https://i.ytimg.com/an_webp/tKBysGhr8yI/mqdefault_6s.webp?du=3000&sqp=CPSOi7sG&rs=AOn4CLBeAiTIPFk7PcIjrjcyqOCxOwoR4g', 'width': 320, 'height': 180}, 'descriptionSnippet': None, 'channel': {'name': 'Sahanka Aflaanta', 'id': 'UCjqVAXMk_RCLF4mK6eSN1ZQ', 'thumbnails': [{'url': 'https://yt3.ggpht.com/ytc/AIdro_kNaZe-c0tQ3p6MU202JYIWm2JU1DifK2sbJO-7WpduGw=s68-c-k-c0x00ffffff-no-rj', 'width': 68, 'height': 68}], 'link': 'https://www.youtube.com/channel/UCjqVAXMk_RCLF4mK6eSN1ZQ'}, 'accessibility': {'title': 'Sinister 2012 Flim Cabsi ah by Sahanka Aflaanta 39,099 views 3 years ago 1 hour, 29 minutes', 'duration': '1 hour, 29 minutes, 33 seconds'}, 'link': 'https://www.youtube.com/watch?v=tKBysGhr8yI', 'shelfTitle': None}, {'type': 'video', 'id': 'OQOWnbsamng', 'title': 'Lonely Wife Wants Other Wife Out Of The Picture. Now.  (Jennifer Reali)', 'publishedTime': '2 weeks ago', 'duration': '44:15', 'viewCount': {'text': '214,066 views', 'short': '214K views'}, 'thumbnails': [{'url': 'https://i.ytimg.com/vi/OQOWnbsamng/hq720.jpg?sqp=-oaymwEcCOgCEMoBSFXyq4qpAw4IARUAAIhCGAFwAcABBg==&rs=AOn4CLAziKySm7INOFhy7ktvJhQO-iYzng', 'width': 360, 'height': 202}, {'url': 'https://i.ytimg.com/vi/OQOWnbsamng/hq720.jpg?sqp=-oaymwEcCNAFEJQDSFXyq4qpAw4IARUAAIhCGAFwAcABBg==&rs=AOn4CLCKH4Sz9XDxgcioIKuJXJg3lGLwig', 'width': 720, 'height': 404}], 'richThumbnail': {'url': 'https://i.ytimg.com/an_webp/OQOWnbsamng/mqdefault_6s.webp?du=3000&sqp=CIi7i7sG&rs=AOn4CLCNwhBXCtiByS6YZlhkqbClEsHJqw', 'width': 320, 'height': 180}, 'descriptionSnippet': [{'text': \"When Jennifer Reali meets Brian Hood, there's an instant romantic connection. But there's one problem... they're both married.\"}], 'channel': {'name': 'BOZE vs. the WORLD', 'id': 'UCg3RD_n1iRXLiUi2qJszxJg', 'thumbnails': [{'url': 'https://yt3.ggpht.com/sNCssIJRDj9nAdqW2Gq5_5H9gKpFh60Qscpu18PYJ3POoc6u376lF-6cfAdXpwbFFZKSLOtnEg=s68-c-k-c0x00ffffff-no-rj', 'width': 68, 'height': 68}], 'link': 'https://www.youtube.com/channel/UCg3RD_n1iRXLiUi2qJszxJg'}, 'accessibility': {'title': 'Lonely Wife Wants Other Wife Out Of The Picture. Now.  (Jennifer Reali) by BOZE vs. the WORLD 214,066 views 2 weeks ago 44 minutes', 'duration': '44 minutes, 15 seconds'}, 'link': 'https://www.youtube.com/watch?v=OQOWnbsamng', 'shelfTitle': None}, {'type': 'video', 'id': 'hJB4n_atC8A', 'title': 'SINISTER: The Devil’s Work (Lori Vallow-Daybell)', 'publishedTime': '2 months ago', 'duration': '1:34:21', 'viewCount': {'text': '340,075 views', 'short': '340K views'}, 'thumbnails': [{'url': 'https://i.ytimg.com/vi/hJB4n_atC8A/hq720.jpg?sqp=-oaymwEcCOgCEMoBSFXyq4qpAw4IARUAAIhCGAFwAcABBg==&rs=AOn4CLDoONsKPbEskxUcLES6Dtn-S98skg', 'width': 360, 'height': 202}, {'url': 'https://i.ytimg.com/vi/hJB4n_atC8A/hq720.jpg?sqp=-oaymwEcCNAFEJQDSFXyq4qpAw4IARUAAIhCGAFwAcABBg==&rs=AOn4CLBzirjX08_2ni-UBlHX7Lemwi0YEg', 'width': 720, 'height': 404}], 'richThumbnail': {'url': 'https://i.ytimg.com/an_webp/hJB4n_atC8A/mqdefault_6s.webp?du=3000&sqp=CNC1i7sG&rs=AOn4CLAS-TWVU9pAiBxE62wszHNsWPn-Rg', 'width': 320, 'height': 180}, 'descriptionSnippet': [{'text': 'Lori Daybell could have been considered a great mom, supportive wife, and all-around faithful member of her Church. But when\\xa0...'}], 'channel': {'name': 'BOZE vs. the WORLD', 'id': 'UCg3RD_n1iRXLiUi2qJszxJg', 'thumbnails': [{'url': 'https://yt3.ggpht.com/sNCssIJRDj9nAdqW2Gq5_5H9gKpFh60Qscpu18PYJ3POoc6u376lF-6cfAdXpwbFFZKSLOtnEg=s68-c-k-c0x00ffffff-no-rj', 'width': 68, 'height': 68}], 'link': 'https://www.youtube.com/channel/UCg3RD_n1iRXLiUi2qJszxJg'}, 'accessibility': {'title': 'SINISTER: The Devil’s Work (Lori Vallow-Daybell) by BOZE vs. the WORLD 340,075 views 2 months ago 1 hour, 34 minutes', 'duration': '1 hour, 34 minutes, 21 seconds'}, 'link': 'https://www.youtube.com/watch?v=hJB4n_atC8A', 'shelfTitle': None}, {'type': 'video', 'id': '2Wd-1WZ5W2I', 'title': 'Sinister - The Lawnmower Scene', 'publishedTime': '11 years ago', 'duration': '6:51', 'viewCount': {'text': '889,520 views', 'short': '889K views'}, 'thumbnails': [{'url': 'https://i.ytimg.com/vi/2Wd-1WZ5W2I/hq720.jpg?sqp=-oaymwEcCOgCEMoBSFXyq4qpAw4IARUAAIhCGAFwAcABBg==&rs=AOn4CLAPL43vzC0K0J720zq1yZtTdOVOwA', 'width': 360, 'height': 202}, {'url': 'https://i.ytimg.com/vi/2Wd-1WZ5W2I/hq720.jpg?sqp=-oaymwEcCNAFEJQDSFXyq4qpAw4IARUAAIhCGAFwAcABBg==&rs=AOn4CLBndZEix320VciFwxJb0Ght-sVMdA', 'width': 720, 'height': 404}], 'richThumbnail': None, 'descriptionSnippet': [{'text': '\"The Famous\" lawnmower scene + all the other murders scenes.'}], 'channel': {'name': 'Sparkle', 'id': 'UCxnY3Xw6vIhUE9JB-C4Go5A', 'thumbnails': [{'url': 'https://yt3.ggpht.com/ytc/AIdro_m5qZkGxsbFwDT0QLrARt1iz5fF2UwDKA0Y9rWrvPDJnKk=s68-c-k-c0x00ffffff-no-rj', 'width': 68, 'height': 68}], 'link': 'https://www.youtube.com/channel/UCxnY3Xw6vIhUE9JB-C4Go5A'}, 'accessibility': {'title': 'Sinister - The Lawnmower Scene by Sparkle 889,520 views 11 years ago 6 minutes, 51 seconds', 'duration': '6 minutes, 51 seconds'}, 'link': 'https://www.youtube.com/watch?v=2Wd-1WZ5W2I', 'shelfTitle': None}, {'type': 'video', 'id': 'PBil1ffTxls', 'title': 'Sinister Notifications to wake up to', 'publishedTime': '1 day ago', 'duration': '7:40', 'viewCount': {'text': '208,934 views', 'short': '208K views'}, 'thumbnails': [{'url': 'https://i.ytimg.com/vi/PBil1ffTxls/hqdefault.jpg?sqp=-oaymwEcCOADEI4CSFXyq4qpAw4IARUAAIhCGAFwAcABBg==&rs=AOn4CLCbpCo2GyE5tGxl4-kCP7Tci58Z7g', 'width': 480, 'height': 270}], 'richThumbnail': {'url': 'https://i.ytimg.com/an_webp/PBil1ffTxls/mqdefault_6s.webp?du=3000&sqp=CKSui7sG&rs=AOn4CLAp2yyXqqmMVNUwn32JtH3m3hnzFA', 'width': 320, 'height': 180}, 'descriptionSnippet': [{'text': 'who up jumping with they aggressive worm?'}], 'channel': {'name': 'Matt Rose', 'id': 'UCsQ9n37qjeBZEWqN8bdKbMQ', 'thumbnails': [{'url': 'https://yt3.ggpht.com/E-3zkRp8I5TDjS-765TN1teUUrp0zkvLCRVPyxbrpB3YaTmuKlaHyXWrDiwigjHlPIt6b6Tdq3A=s68-c-k-c0x00ffffff-no-rj', 'width': 68, 'height': 68}], 'link': 'https://www.youtube.com/channel/UCsQ9n37qjeBZEWqN8bdKbMQ'}, 'accessibility': {'title': 'Sinister Notifications to wake up to by Matt Rose 208,934 views 1 day ago 7 minutes, 40 seconds', 'duration': '7 minutes, 40 seconds'}, 'link': 'https://www.youtube.com/watch?v=PBil1ffTxls', 'shelfTitle': None}, {'type': 'video', 'id': 'f2X_Dgyvw3s', 'title': 'Sinister Squad | ACTION | HD | Full English Movie', 'publishedTime': '1 month ago', 'duration': '1:30:15', 'viewCount': {'text': '754,317 views', 'short': '754K views'}, 'thumbnails': [{'url': 'https://i.ytimg.com/vi/f2X_Dgyvw3s/hq720.jpg?sqp=-oaymwEcCOgCEMoBSFXyq4qpAw4IARUAAIhCGAFwAcABBg==&rs=AOn4CLA0PQT-XsGMvyMAx2ChlzQ-s6IEsQ', 'width': 360, 'height': 202}, {'url': 'https://i.ytimg.com/vi/f2X_Dgyvw3s/hq720.jpg?sqp=-oaymwEcCNAFEJQDSFXyq4qpAw4IARUAAIhCGAFwAcABBg==&rs=AOn4CLBWvi_35CwiMKvsfzTAjSsHZjEHHg', 'width': 720, 'height': 404}], 'richThumbnail': {'url': 'https://i.ytimg.com/an_webp/f2X_Dgyvw3s/mqdefault_6s.webp?du=3000&sqp=CLmoi7sG&rs=AOn4CLD7FrrKu2SbAH9by87EqazcE7qbXw', 'width': 320, 'height': 180}, 'descriptionSnippet': [{'text': 'Sinister', 'bold': True}, {'text': ' Squad | ACTION | HD | Full English Movie Director: Jeremy M. Inman Writer: Jeremy M. Inman Star: Johnny Rey Diaz,\\xa0...'}], 'channel': {'name': 'MONSTERS', 'id': 'UCXHZzSwswfWaCQX0Qk8fghg', 'thumbnails': [{'url': 'https://yt3.ggpht.com/sD__OWEOQ1vMqHfzFfkZPRp1TaUaO6ANCJvis6yK_Xr1QkkJIpEQDRWZgg8PO7-HG-_g2pvUREM=s68-c-k-c0x00ffffff-no-rj', 'width': 68, 'height': 68}], 'link': 'https://www.youtube.com/channel/UCXHZzSwswfWaCQX0Qk8fghg'}, 'accessibility': {'title': 'Sinister Squad | ACTION | HD | Full English Movie by MONSTERS 754,317 views 1 month ago 1 hour, 30 minutes', 'duration': '1 hour, 30 minutes, 15 seconds'}, 'link': 'https://www.youtube.com/watch?v=f2X_Dgyvw3s', 'shelfTitle': None}, {'type': 'video', 'id': 'kJEvR6GEb7U', 'title': \"Sinister 2 (2015) - Zach's Murder Movie Scene (9/10) | Movieclips\", 'publishedTime': '7 years ago', 'duration': '3:02', 'viewCount': {'text': '1,554,328 views', 'short': '1.5M views'}, 'thumbnails': [{'url': 'https://i.ytimg.com/vi/kJEvR6GEb7U/hq720.jpg?sqp=-oaymwEcCOgCEMoBSFXyq4qpAw4IARUAAIhCGAFwAcABBg==&rs=AOn4CLChhQDKh0yLAQmBVLGiSNtgWd2JTg', 'width': 360, 'height': 202}, {'url': 'https://i.ytimg.com/vi/kJEvR6GEb7U/hq720.jpg?sqp=-oaymwEcCNAFEJQDSFXyq4qpAw4IARUAAIhCGAFwAcABBg==&rs=AOn4CLBXfQjubtGCX3GBU_sepm1rWWTwEg', 'width': 720, 'height': 404}], 'richThumbnail': {'url': 'https://i.ytimg.com/an_webp/kJEvR6GEb7U/mqdefault_6s.webp?du=3000&sqp=CMKui7sG&rs=AOn4CLC8f8koN24FJ5UNqk74HYfDnL1TCA', 'width': 320, 'height': 180}, 'descriptionSnippet': [{'text': 'CLIP DESCRIPTION: Zach (Dartanian Sloan) tries to make his murder film, but the Ex-Deputy (James Ransone) interrupts him\\xa0...'}], 'channel': {'name': 'Movieclips', 'id': 'UC3gNmTGu-TTbFPpfSs5kNkg', 'thumbnails': [{'url': 'https://yt3.ggpht.com/QSCDnr5KmYElRp-zYpdW-txkiRo-HYF6Ah1SvMF_7MlspmO1fwYOy7P1jnim8HqezI8IZZKcPQ=s68-c-k-c0x00ffffff-no-rj', 'width': 68, 'height': 68}], 'link': 'https://www.youtube.com/channel/UC3gNmTGu-TTbFPpfSs5kNkg'}, 'accessibility': {'title': \"Sinister 2 (2015) - Zach's Murder Movie Scene (9/10) | Movieclips by Movieclips 1,554,328 views 7 years ago 3 minutes, 2 seconds\", 'duration': '3 minutes, 2 seconds'}, 'link': 'https://www.youtube.com/watch?v=kJEvR6GEb7U', 'shelfTitle': None}, {'type': 'video', 'id': '5kBMAn6QWPw', 'title': 'SINISTER MINISTER | Full Movie | LMN', 'publishedTime': '4 months ago', 'duration': '1:27:36', 'viewCount': {'text': '148,971 views', 'short': '148K views'}, 'thumbnails': [{'url': 'https://i.ytimg.com/vi/5kBMAn6QWPw/hq720.jpg?sqp=-oaymwEcCOgCEMoBSFXyq4qpAw4IARUAAIhCGAFwAcABBg==&rs=AOn4CLDZrHCQ4FBqM6onec3bIff1y7wh1w', 'width': 360, 'height': 202}, {'url': 'https://i.ytimg.com/vi/5kBMAn6QWPw/hq720.jpg?sqp=-oaymwEcCNAFEJQDSFXyq4qpAw4IARUAAIhCGAFwAcABBg==&rs=AOn4CLAFhfaKNT4EX1uXiFVRCu30qJh1qw', 'width': 720, 'height': 404}], 'richThumbnail': {'url': 'https://i.ytimg.com/an_webp/5kBMAn6QWPw/mqdefault_6s.webp?du=3000&sqp=CJzJi7sG&rs=AOn4CLBIipwE6ZtUFwKvnJRFppdm1gSOow', 'width': 320, 'height': 180}, 'descriptionSnippet': [{'text': 'Based on a true story. When single mother Trish falls for charismatic minister DJ she believes that she and her teenage daughter\\xa0...'}], 'channel': {'name': 'LMN', 'id': 'UCMHdZ241C5-RPx7WRj8zfeQ', 'thumbnails': [{'url': 'https://yt3.ggpht.com/ytc/AIdro_kB0RBAP_rj3EXjTPiW-vVkZRcaFtA02755rb5-C-Uyog=s68-c-k-c0x00ffffff-no-rj', 'width': 68, 'height': 68}], 'link': 'https://www.youtube.com/channel/UCMHdZ241C5-RPx7WRj8zfeQ'}, 'accessibility': {'title': 'SINISTER MINISTER | Full Movie | LMN by LMN 148,971 views 4 months ago 1 hour, 27 minutes', 'duration': '1 hour, 27 minutes, 36 seconds'}, 'link': 'https://www.youtube.com/watch?v=5kBMAn6QWPw', 'shelfTitle': None}, {'type': 'video', 'id': 'apghx7q9oeY', 'title': 'Sinister | Official Trailer', 'publishedTime': '12 years ago', 'duration': '2:32', 'viewCount': {'text': '1,787,464 views', 'short': '1.7M views'}, 'thumbnails': [{'url': 'https://i.ytimg.com/vi/apghx7q9oeY/hq720.jpg?sqp=-oaymwEcCOgCEMoBSFXyq4qpAw4IARUAAIhCGAFwAcABBg==&rs=AOn4CLAh1KmqkTTn7wjdQAZoF44Sa8DBdQ', 'width': 360, 'height': 202}, {'url': 'https://i.ytimg.com/vi/apghx7q9oeY/hq720.jpg?sqp=-oaymwEcCNAFEJQDSFXyq4qpAw4IARUAAIhCGAFwAcABBg==&rs=AOn4CLAevK6Jwf4LMcObEXrFNaHuFDd1rQ', 'width': 720, 'height': 404}], 'richThumbnail': {'url': 'https://i.ytimg.com/an_webp/apghx7q9oeY/mqdefault_6s.webp?du=3000&sqp=CNK3i7sG&rs=AOn4CLCVqVTOS0rRO5wllLQH-hO5jYyCMQ', 'width': 320, 'height': 180}, 'descriptionSnippet': [{'text': 'SINISTER', 'bold': True}, {'text': \" True-crime writer Ellison Oswald (Ethan Hawke) is in a slump; he hasn't had a best seller in more than 10 years and is\\xa0...\"}], 'channel': {'name': 'Blumhouse', 'id': 'UCCEfOHkckMXnoZQAjUZsMig', 'thumbnails': [{'url': 'https://yt3.ggpht.com/Ke9anS7Ef6KZ8h_UiLOVjVzLkfuvUdyl7fFZIpevjJOIj2rTxzblTWUh9QVm-HcFqfurocos=s68-c-k-c0x00ffffff-no-rj', 'width': 68, 'height': 68}], 'link': 'https://www.youtube.com/channel/UCCEfOHkckMXnoZQAjUZsMig'}, 'accessibility': {'title': 'Sinister | Official Trailer by Blumhouse 1,787,464 views 12 years ago 2 minutes, 32 seconds', 'duration': '2 minutes, 32 seconds'}, 'link': 'https://www.youtube.com/watch?v=apghx7q9oeY', 'shelfTitle': None}, {'type': 'video', 'id': 'al_wg5F_xkM', 'title': 'Sinister Was Almost Perfect', 'publishedTime': '2 years ago', 'duration': '11:35', 'viewCount': {'text': '498,743 views', 'short': '498K views'}, 'thumbnails': [{'url': 'https://i.ytimg.com/vi/al_wg5F_xkM/hq720.jpg?sqp=-oaymwEcCOgCEMoBSFXyq4qpAw4IARUAAIhCGAFwAcABBg==&rs=AOn4CLD0itRJil85EtksHmOM7Yg4ah5ckQ', 'width': 360, 'height': 202}, {'url': 'https://i.ytimg.com/vi/al_wg5F_xkM/hq720.jpg?sqp=-oaymwEcCNAFEJQDSFXyq4qpAw4IARUAAIhCGAFwAcABBg==&rs=AOn4CLATHsfczqUiJQSUv3PPQ_01hW9noQ', 'width': 720, 'height': 404}], 'richThumbnail': {'url': 'https://i.ytimg.com/an_webp/al_wg5F_xkM/mqdefault_6s.webp?du=3000&sqp=CO3Ni7sG&rs=AOn4CLBEYUA3c9L7e2pYcUvxtQ_cA2EKcg', 'width': 320, 'height': 180}, 'descriptionSnippet': [{'text': 'Sinister', 'bold': True}, {'text': ' is generally considered to be one of the scariest horror movies of all time. In a recent 2020 study, it was actually found to\\xa0...'}], 'channel': {'name': 'Tray Clancy', 'id': 'UCV0NJLPgKnLriFm_WR1L1DA', 'thumbnails': [{'url': 'https://yt3.ggpht.com/qoKvxULy1OeQmerE-f7dt2poNtzPZFKKwq3C3cTTMjRvc5o9kW51Mr3xS5Ek8E8uHMNMxUtT=s68-c-k-c0x00ffffff-no-rj', 'width': 68, 'height': 68}], 'link': 'https://www.youtube.com/channel/UCV0NJLPgKnLriFm_WR1L1DA'}, 'accessibility': {'title': 'Sinister Was Almost Perfect by Tray Clancy 498,743 views 2 years ago 11 minutes, 35 seconds', 'duration': '11 minutes, 35 seconds'}, 'link': 'https://www.youtube.com/watch?v=al_wg5F_xkM', 'shelfTitle': None}, {'type': 'video', 'id': '4sbWddyECRk', 'title': 'sinister-young g', 'publishedTime': '17 years ago', 'duration': '4:44', 'viewCount': {'text': '463,241 views', 'short': '463K views'}, 'thumbnails': [{'url': 'https://i.ytimg.com/vi/4sbWddyECRk/hqdefault.jpg?sqp=-oaymwE2COADEI4CSFXyq4qpAygIARUAAIhCGAFwAcABBvABAfgB_gSAAuADigIMCAAQARhyIEAoODAP&rs=AOn4CLDkdVxvEyKTay9Wj4yW4f0JHP107g', 'width': 480, 'height': 270}], 'richThumbnail': {'url': 'https://i.ytimg.com/an_webp/4sbWddyECRk/mqdefault_6s.webp?du=3000&sqp=CKLCi7sG&rs=AOn4CLAdJb4oTybtbLh26pmDS53rUN5UBQ', 'width': 320, 'height': 180}, 'descriptionSnippet': [{'text': 'from the album mobbin 4 life.'}], 'channel': {'name': 'foolio78', 'id': 'UC2leORAYsMo5QgRhn0tvSmw', 'thumbnails': [{'url': 'https://yt3.ggpht.com/ytc/AIdro_lhKLm12iw6GFX6DdEtsBUSqyCyBJlY3ABBts_zeiJ6-w=s68-c-k-c0x00ffffff-no-rj', 'width': 68, 'height': 68}], 'link': 'https://www.youtube.com/channel/UC2leORAYsMo5QgRhn0tvSmw'}, 'accessibility': {'title': 'sinister-young g by foolio78 463,241 views 17 years ago 4 minutes, 44 seconds', 'duration': '4 minutes, 44 seconds'}, 'link': 'https://www.youtube.com/watch?v=4sbWddyECRk', 'shelfTitle': None}]}\n"
     ]
    }
   ],
   "source": [
    "search_sinister = VideosSearch('Sinister site:youtube.com', limit=35)\n",
    "sinister_results = search_sinister.result()\n",
    "print(sinister_results)"
   ]
  },
  {
   "cell_type": "code",
   "execution_count": 38,
   "id": "eda8ddfe-9113-4ca2-b0bc-ac6cf434e9c7",
   "metadata": {},
   "outputs": [
    {
     "name": "stdout",
     "output_type": "stream",
     "text": [
      "Video Title: Sinister Official Trailer #1 (2012) - Ethan Hawke Horror Movie HD\n",
      "Video Link: https://www.youtube.com/watch?v=_kbQAJR9YWQ\n",
      "View Count: 10,694,396 views\n",
      "--------------------------------------------------\n",
      "Video Title: Sinister (2012) KILL COUNT\n",
      "Video Link: https://www.youtube.com/watch?v=fKewkAww5Ko\n",
      "View Count: 7,978,809 views\n",
      "--------------------------------------------------\n",
      "Video Title: Cordae - Sinister (feat. Lil Wayne) [Official Music Video]\n",
      "Video Link: https://www.youtube.com/watch?v=9VYj6CFnO08\n",
      "View Count: 7,823,717 views\n",
      "--------------------------------------------------\n",
      "Video Title: Sinister\n",
      "Video Link: https://www.youtube.com/watch?v=fRS-oFjGV-4\n",
      "View Count: 416,305 views\n",
      "--------------------------------------------------\n",
      "Video Title: Sinister - I Won't Forget You G   1994\n",
      "Video Link: https://www.youtube.com/watch?v=zwJ34wk0wK4\n",
      "View Count: 2,686,988 views\n",
      "--------------------------------------------------\n",
      "Video Title: Sinister: The Complete History of Bughuul | Horror History\n",
      "Video Link: https://www.youtube.com/watch?v=NufYX5F4O8E\n",
      "View Count: 363,850 views\n",
      "--------------------------------------------------\n",
      "Video Title: SINISTER: I Want To Be Your Lover | Wendi Mae Davidson\n",
      "Video Link: https://www.youtube.com/watch?v=1VMrefmIMnI\n",
      "View Count: 355,427 views\n",
      "--------------------------------------------------\n",
      "Video Title: Kman 6ixx x Young Star 6ixx - Sinister (Official Music Video)\n",
      "Video Link: https://www.youtube.com/watch?v=gGdwmNhKCTw\n",
      "View Count: 4,284,867 views\n",
      "--------------------------------------------------\n",
      "Video Title: Sinister 2012 Flim Cabsi ah\n",
      "Video Link: https://www.youtube.com/watch?v=tKBysGhr8yI\n",
      "View Count: 39,099 views\n",
      "--------------------------------------------------\n",
      "Video Title: Lonely Wife Wants Other Wife Out Of The Picture. Now.  (Jennifer Reali)\n",
      "Video Link: https://www.youtube.com/watch?v=OQOWnbsamng\n",
      "View Count: 214,066 views\n",
      "--------------------------------------------------\n",
      "Video Title: SINISTER: The Devil’s Work (Lori Vallow-Daybell)\n",
      "Video Link: https://www.youtube.com/watch?v=hJB4n_atC8A\n",
      "View Count: 340,075 views\n",
      "--------------------------------------------------\n",
      "Video Title: Sinister - The Lawnmower Scene\n",
      "Video Link: https://www.youtube.com/watch?v=2Wd-1WZ5W2I\n",
      "View Count: 889,520 views\n",
      "--------------------------------------------------\n",
      "Video Title: Sinister Notifications to wake up to\n",
      "Video Link: https://www.youtube.com/watch?v=PBil1ffTxls\n",
      "View Count: 208,934 views\n",
      "--------------------------------------------------\n",
      "Video Title: Sinister Squad | ACTION | HD | Full English Movie\n",
      "Video Link: https://www.youtube.com/watch?v=f2X_Dgyvw3s\n",
      "View Count: 754,317 views\n",
      "--------------------------------------------------\n",
      "Video Title: Sinister 2 (2015) - Zach's Murder Movie Scene (9/10) | Movieclips\n",
      "Video Link: https://www.youtube.com/watch?v=kJEvR6GEb7U\n",
      "View Count: 1,554,328 views\n",
      "--------------------------------------------------\n",
      "Video Title: SINISTER MINISTER | Full Movie | LMN\n",
      "Video Link: https://www.youtube.com/watch?v=5kBMAn6QWPw\n",
      "View Count: 148,971 views\n",
      "--------------------------------------------------\n",
      "Video Title: Sinister | Official Trailer\n",
      "Video Link: https://www.youtube.com/watch?v=apghx7q9oeY\n",
      "View Count: 1,787,464 views\n",
      "--------------------------------------------------\n",
      "Video Title: Sinister Was Almost Perfect\n",
      "Video Link: https://www.youtube.com/watch?v=al_wg5F_xkM\n",
      "View Count: 498,743 views\n",
      "--------------------------------------------------\n",
      "Video Title: sinister-young g\n",
      "Video Link: https://www.youtube.com/watch?v=4sbWddyECRk\n",
      "View Count: 463,241 views\n",
      "--------------------------------------------------\n"
     ]
    }
   ],
   "source": [
    "for video_info in sinister_results['result']:\n",
    "    video_title = video_info['title']\n",
    "    video_link = video_info['link']\n",
    "    view_count = video_info['viewCount']['text']\n",
    "\n",
    "    print(f\"Video Title: {video_title}\")\n",
    "    print(f\"Video Link: {video_link}\")\n",
    "    print(f\"View Count: {view_count}\")\n",
    "    print(\"-\" * 50)"
   ]
  },
  {
   "cell_type": "code",
   "execution_count": 58,
   "id": "c62a658d-d28d-4766-bc2b-837a12298452",
   "metadata": {
    "scrolled": true
   },
   "outputs": [
    {
     "name": "stdout",
     "output_type": "stream",
     "text": [
      "--------------------------------------------------\n",
      "--------------------------------------------------\n",
      "--------------------------------------------------\n",
      "--------------------------------------------------\n",
      "--------------------------------------------------\n",
      "--------------------------------------------------\n",
      "--------------------------------------------------\n",
      "--------------------------------------------------\n",
      "--------------------------------------------------\n",
      "--------------------------------------------------\n"
     ]
    }
   ],
   "source": [
    "search_other = VideosSearch('Boze vs The World -Sinister site:youtube.com', limit=10)\n",
    "other_results = search_other.result()\n",
    "\n",
    "for video_info in other_results['result']:\n",
    "    if 'title' in video_info and 'link' in video_info and 'viewCount' in video_info:\n",
    "        video_title = video_info['title']\n",
    "        video_link = video_info['link']\n",
    "        view_count = video_info['viewCount']['text']\n",
    "        print(\"-\" * 50)\n",
    "    else:\n",
    "        print(\"Invalid data found. Skipping...\")"
   ]
  },
  {
   "cell_type": "code",
   "execution_count": 60,
   "id": "225c9552-caba-42c4-8744-4bf6f9d58e2f",
   "metadata": {
    "scrolled": true
   },
   "outputs": [
    {
     "name": "stdout",
     "output_type": "stream",
     "text": [
      "{'result': [{'type': 'video', 'id': 'xrNcTI5dvCc', 'title': 'young LOVE SICK girl ordered to be SHOT ON SIGHT by FBI (Bonnie Parker)', 'publishedTime': '5 days ago', 'duration': '57:42', 'viewCount': {'text': '201,630 views', 'short': '201K views'}, 'thumbnails': [{'url': 'https://i.ytimg.com/vi/xrNcTI5dvCc/hq720.jpg?sqp=-oaymwEcCOgCEMoBSFXyq4qpAw4IARUAAIhCGAFwAcABBg==&rs=AOn4CLDeRHE37lZPF2pLsKK2nz-rttlQKQ', 'width': 360, 'height': 202}, {'url': 'https://i.ytimg.com/vi/xrNcTI5dvCc/hq720.jpg?sqp=-oaymwEcCNAFEJQDSFXyq4qpAw4IARUAAIhCGAFwAcABBg==&rs=AOn4CLCCDwHQOJOSRGVEzujVZl46otkcDA', 'width': 720, 'height': 404}], 'richThumbnail': {'url': 'https://i.ytimg.com/an_webp/xrNcTI5dvCc/mqdefault_6s.webp?du=3000&sqp=CKuxjbsG&rs=AOn4CLBa1OVlZj7veNuPMJ0k5lhVUHEwoQ', 'width': 320, 'height': 180}, 'descriptionSnippet': [{'text': 'No two killers are more infamous than the criminal duo — Bonnie and Clyde. As they went on an unimaginable killing spree\\xa0...'}], 'channel': {'name': 'BOZE vs. the WORLD', 'id': 'UCg3RD_n1iRXLiUi2qJszxJg', 'thumbnails': [{'url': 'https://yt3.ggpht.com/sNCssIJRDj9nAdqW2Gq5_5H9gKpFh60Qscpu18PYJ3POoc6u376lF-6cfAdXpwbFFZKSLOtnEg=s68-c-k-c0x00ffffff-no-rj', 'width': 68, 'height': 68}], 'link': 'https://www.youtube.com/channel/UCg3RD_n1iRXLiUi2qJszxJg'}, 'accessibility': {'title': 'young LOVE SICK girl ordered to be SHOT ON SIGHT by FBI (Bonnie Parker) by BOZE vs. the WORLD 201,630 views 5 days ago 57 minutes', 'duration': '57 minutes, 42 seconds'}, 'link': 'https://www.youtube.com/watch?v=xrNcTI5dvCc', 'shelfTitle': None}, {'type': 'video', 'id': 'vJ9anfUDGeo', 'title': 'tiktoker tries to DESTROY business and gets hit with SECURITY FOOTAGE', 'publishedTime': '8 months ago', 'duration': '13:25', 'viewCount': {'text': '546,315 views', 'short': '546K views'}, 'thumbnails': [{'url': 'https://i.ytimg.com/vi/vJ9anfUDGeo/hq720.jpg?sqp=-oaymwEcCOgCEMoBSFXyq4qpAw4IARUAAIhCGAFwAcABBg==&rs=AOn4CLBdizT-5JZ1B08zCm8bSyoDh2rUQA', 'width': 360, 'height': 202}, {'url': 'https://i.ytimg.com/vi/vJ9anfUDGeo/hq720.jpg?sqp=-oaymwEcCNAFEJQDSFXyq4qpAw4IARUAAIhCGAFwAcABBg==&rs=AOn4CLBQcHaB18FwF4NUTRdg85PxWdObGA', 'width': 720, 'height': 404}], 'richThumbnail': {'url': 'https://i.ytimg.com/an_webp/vJ9anfUDGeo/mqdefault_6s.webp?du=3000&sqp=CPzFjbsG&rs=AOn4CLDmxBH45DhkOIYtcBob_1vW6dxUsw', 'width': 320, 'height': 180}, 'descriptionSnippet': [{'text': 'non-true crime channel & podcast : @BOZESBREAKROOM live on mondays @ 4PM pst! http://twitch.tv/bigbossboze | FULL 3+\\xa0...'}], 'channel': {'name': 'BOZE vs. the WORLD', 'id': 'UCg3RD_n1iRXLiUi2qJszxJg', 'thumbnails': [{'url': 'https://yt3.ggpht.com/sNCssIJRDj9nAdqW2Gq5_5H9gKpFh60Qscpu18PYJ3POoc6u376lF-6cfAdXpwbFFZKSLOtnEg=s68-c-k-c0x00ffffff-no-rj', 'width': 68, 'height': 68}], 'link': 'https://www.youtube.com/channel/UCg3RD_n1iRXLiUi2qJszxJg'}, 'accessibility': {'title': 'tiktoker tries to DESTROY business and gets hit with SECURITY FOOTAGE by BOZE vs. the WORLD 546,315 views 8 months ago 13 minutes, 25 seconds', 'duration': '13 minutes, 25 seconds'}, 'link': 'https://www.youtube.com/watch?v=vJ9anfUDGeo', 'shelfTitle': None}, {'type': 'video', 'id': 'CvY-qWdZ7Tw', 'title': 'deranged STALKER thinks the UNIVERSE gave him a sign', 'publishedTime': '2 days ago', 'duration': '20:37', 'viewCount': {'text': '187,327 views', 'short': '187K views'}, 'thumbnails': [{'url': 'https://i.ytimg.com/vi/CvY-qWdZ7Tw/hq720.jpg?sqp=-oaymwEcCOgCEMoBSFXyq4qpAw4IARUAAIhCGAFwAcABBg==&rs=AOn4CLDn68o-NN6zazheC97IFdrFo2l8SQ', 'width': 360, 'height': 202}, {'url': 'https://i.ytimg.com/vi/CvY-qWdZ7Tw/hq720.jpg?sqp=-oaymwEcCNAFEJQDSFXyq4qpAw4IARUAAIhCGAFwAcABBg==&rs=AOn4CLCzoXp0gFEACV0rxvlnX5nzejzpkA', 'width': 720, 'height': 404}], 'richThumbnail': {'url': 'https://i.ytimg.com/an_webp/CvY-qWdZ7Tw/mqdefault_6s.webp?du=3000&sqp=CPiajbsG&rs=AOn4CLDymU1KoQpVurEawTN_sCKe9Vr0AA', 'width': 320, 'height': 180}, 'descriptionSnippet': [{'text': 'Stalker drives 25 HOURS because he thought she was sending him hidden messages through social media... Bodycam playlist:\\xa0...'}], 'channel': {'name': 'BOZE BUT SHORTER', 'id': 'UCJdiWWV1VZOGiqA8Y7jrBKg', 'thumbnails': [{'url': 'https://yt3.ggpht.com/3SjdpoHumGod53Zo1BIFF1JSgD-apPejWEcuSIEBREtYmltZyIsvuaLrAS1IzAaRB6h8p9DxGg=s68-c-k-c0x00ffffff-no-rj', 'width': 68, 'height': 68}], 'link': 'https://www.youtube.com/channel/UCJdiWWV1VZOGiqA8Y7jrBKg'}, 'accessibility': {'title': 'deranged STALKER thinks the UNIVERSE gave him a sign by BOZE BUT SHORTER 187,327 views 2 days ago 20 minutes', 'duration': '20 minutes, 37 seconds'}, 'link': 'https://www.youtube.com/watch?v=CvY-qWdZ7Tw', 'shelfTitle': None}, {'type': 'video', 'id': 'yn7zW-T8hAI', 'title': 'A Very Karen Christmas', 'publishedTime': '1 year ago', 'duration': '16:23', 'viewCount': {'text': '589,228 views', 'short': '589K views'}, 'thumbnails': [{'url': 'https://i.ytimg.com/vi/yn7zW-T8hAI/hq720.jpg?sqp=-oaymwEcCOgCEMoBSFXyq4qpAw4IARUAAIhCGAFwAcABBg==&rs=AOn4CLDhtC17cj0ZMjlrthjHV0GyEzeQQQ', 'width': 360, 'height': 202}, {'url': 'https://i.ytimg.com/vi/yn7zW-T8hAI/hq720.jpg?sqp=-oaymwEcCNAFEJQDSFXyq4qpAw4IARUAAIhCGAFwAcABBg==&rs=AOn4CLCTxYUcwrSrBOfOXCcHH8dO6KvZUg', 'width': 720, 'height': 404}], 'richThumbnail': {'url': 'https://i.ytimg.com/an_webp/yn7zW-T8hAI/mqdefault_6s.webp?du=3000&sqp=CIjNjbsG&rs=AOn4CLBN4Lll2iBN0BVYnyu97wiVnHj0EQ', 'width': 320, 'height': 180}, 'descriptionSnippet': [{'text': 'SUBMIT A '}, {'text': 'VIDEO', 'bold': True}, {'text': ' TO MY WONDERFUL PRODUCER HERE: bozevideosubmissions@gmail.com Streams every Monday unless\\xa0...'}], 'channel': {'name': 'BOZE vs. the WORLD', 'id': 'UCg3RD_n1iRXLiUi2qJszxJg', 'thumbnails': [{'url': 'https://yt3.ggpht.com/sNCssIJRDj9nAdqW2Gq5_5H9gKpFh60Qscpu18PYJ3POoc6u376lF-6cfAdXpwbFFZKSLOtnEg=s68-c-k-c0x00ffffff-no-rj', 'width': 68, 'height': 68}], 'link': 'https://www.youtube.com/channel/UCg3RD_n1iRXLiUi2qJszxJg'}, 'accessibility': {'title': 'A Very Karen Christmas by BOZE vs. the WORLD 589,228 views 1 year ago 16 minutes', 'duration': '16 minutes, 23 seconds'}, 'link': 'https://www.youtube.com/watch?v=yn7zW-T8hAI', 'shelfTitle': None}, {'type': 'video', 'id': 'uuI2J8FEiDc', 'title': 'SINISTER: Love Me, Love ME, LOVE ME (Sheila Davalloo)', 'publishedTime': '1 month ago', 'duration': '49:01', 'viewCount': {'text': '300,499 views', 'short': '300K views'}, 'thumbnails': [{'url': 'https://i.ytimg.com/vi/uuI2J8FEiDc/hq720.jpg?sqp=-oaymwEcCOgCEMoBSFXyq4qpAw4IARUAAIhCGAFwAcABBg==&rs=AOn4CLAp97mN9FJBpWo27LwWBbvD0ayoOA', 'width': 360, 'height': 202}, {'url': 'https://i.ytimg.com/vi/uuI2J8FEiDc/hq720.jpg?sqp=-oaymwEcCNAFEJQDSFXyq4qpAw4IARUAAIhCGAFwAcABBg==&rs=AOn4CLCgyfnCA-MTRFlNgXCGR_Rb-pH8sg', 'width': 720, 'height': 404}], 'richThumbnail': {'url': 'https://i.ytimg.com/an_webp/uuI2J8FEiDc/mqdefault_6s.webp?du=3000&sqp=CPXFjbsG&rs=AOn4CLCzja_NB-8675i_s7EakHL-pmjyAw', 'width': 320, 'height': 180}, 'descriptionSnippet': [{'text': \"When Sheila Davalloo's affair is put to the test by her co-worker, Anna-Lisa Raymundo, she'll do anything to ensure that her\\xa0...\"}], 'channel': {'name': 'BOZE vs. the WORLD', 'id': 'UCg3RD_n1iRXLiUi2qJszxJg', 'thumbnails': [{'url': 'https://yt3.ggpht.com/sNCssIJRDj9nAdqW2Gq5_5H9gKpFh60Qscpu18PYJ3POoc6u376lF-6cfAdXpwbFFZKSLOtnEg=s68-c-k-c0x00ffffff-no-rj', 'width': 68, 'height': 68}], 'link': 'https://www.youtube.com/channel/UCg3RD_n1iRXLiUi2qJszxJg'}, 'accessibility': {'title': 'SINISTER: Love Me, Love ME, LOVE ME (Sheila Davalloo) by BOZE vs. the WORLD 300,499 views 1 month ago 49 minutes', 'duration': '49 minutes, 1 second'}, 'link': 'https://www.youtube.com/watch?v=uuI2J8FEiDc', 'shelfTitle': None}, {'type': 'video', 'id': 'ZjTdEjQ1HK8', 'title': 'ex-christian curiously watches mormon tiktok mom drama', 'publishedTime': '2 years ago', 'duration': '21:41', 'viewCount': {'text': '887,858 views', 'short': '887K views'}, 'thumbnails': [{'url': 'https://i.ytimg.com/vi/ZjTdEjQ1HK8/hq720.jpg?sqp=-oaymwEcCOgCEMoBSFXyq4qpAw4IARUAAIhCGAFwAcABBg==&rs=AOn4CLD1fhWZR69buPR99Eq9eKF0R_0UAw', 'width': 360, 'height': 202}, {'url': 'https://i.ytimg.com/vi/ZjTdEjQ1HK8/hq720.jpg?sqp=-oaymwEcCNAFEJQDSFXyq4qpAw4IARUAAIhCGAFwAcABBg==&rs=AOn4CLDE5vQl1eCxyNSe1xmL1uV4g8C7Uw', 'width': 720, 'height': 404}], 'richThumbnail': {'url': 'https://i.ytimg.com/an_webp/ZjTdEjQ1HK8/mqdefault_6s.webp?du=3000&sqp=CP2sjbsG&rs=AOn4CLB6-hcYM43s2-SiMP5NfGnMlD4DcA', 'width': 320, 'height': 180}, 'descriptionSnippet': [{'text': 'i am on a livestream hiatus for a few weeks! weekly '}, {'text': 'videos', 'bold': True}, {'text': ' on my channel and ill see you on twitch again soon! :) SUBMIT\\xa0...'}], 'channel': {'name': 'BOZE vs. the WORLD', 'id': 'UCg3RD_n1iRXLiUi2qJszxJg', 'thumbnails': [{'url': 'https://yt3.ggpht.com/sNCssIJRDj9nAdqW2Gq5_5H9gKpFh60Qscpu18PYJ3POoc6u376lF-6cfAdXpwbFFZKSLOtnEg=s68-c-k-c0x00ffffff-no-rj', 'width': 68, 'height': 68}], 'link': 'https://www.youtube.com/channel/UCg3RD_n1iRXLiUi2qJszxJg'}, 'accessibility': {'title': 'ex-christian curiously watches mormon tiktok mom drama by BOZE vs. the WORLD 887,858 views 2 years ago 21 minutes', 'duration': '21 minutes, 41 seconds'}, 'link': 'https://www.youtube.com/watch?v=ZjTdEjQ1HK8', 'shelfTitle': None}, {'type': 'video', 'id': 'CLDgXtMi9SU', 'title': 'famous TIKTOK couple has DARK past resurfaced', 'publishedTime': '4 months ago', 'duration': '13:58', 'viewCount': {'text': '372,406 views', 'short': '372K views'}, 'thumbnails': [{'url': 'https://i.ytimg.com/vi/CLDgXtMi9SU/hq720.jpg?sqp=-oaymwEcCOgCEMoBSFXyq4qpAw4IARUAAIhCGAFwAcABBg==&rs=AOn4CLCmUNrHJzeb5zPLp0lIc0J0DEY69w', 'width': 360, 'height': 202}, {'url': 'https://i.ytimg.com/vi/CLDgXtMi9SU/hq720.jpg?sqp=-oaymwEcCNAFEJQDSFXyq4qpAw4IARUAAIhCGAFwAcABBg==&rs=AOn4CLDtN0IaFA6iExus4CN81OQpeQasqA', 'width': 720, 'height': 404}], 'richThumbnail': {'url': 'https://i.ytimg.com/an_webp/CLDgXtMi9SU/mqdefault_6s.webp?du=3000&sqp=CMjPjbsG&rs=AOn4CLCHKkTzy5OsGIBYvjATT8aqqgxtOw', 'width': 320, 'height': 180}, 'descriptionSnippet': [{'text': \"Streams on Monday unless i'm out of town! I post regularly on INSTAGRAM - http://instagram.com/bigbossboze TIKTOK\\xa0...\"}], 'channel': {'name': 'BOZE vs. the WORLD', 'id': 'UCg3RD_n1iRXLiUi2qJszxJg', 'thumbnails': [{'url': 'https://yt3.ggpht.com/sNCssIJRDj9nAdqW2Gq5_5H9gKpFh60Qscpu18PYJ3POoc6u376lF-6cfAdXpwbFFZKSLOtnEg=s68-c-k-c0x00ffffff-no-rj', 'width': 68, 'height': 68}], 'link': 'https://www.youtube.com/channel/UCg3RD_n1iRXLiUi2qJszxJg'}, 'accessibility': {'title': 'famous TIKTOK couple has DARK past resurfaced by BOZE vs. the WORLD 372,406 views 4 months ago 13 minutes, 58 seconds', 'duration': '13 minutes, 58 seconds'}, 'link': 'https://www.youtube.com/watch?v=CLDgXtMi9SU', 'shelfTitle': None}, {'type': 'video', 'id': 'Ls3YB3DY6X8', 'title': 'karens plaguing society instead of being nice to their families', 'publishedTime': '2 years ago', 'duration': '17:21', 'viewCount': {'text': '753,173 views', 'short': '753K views'}, 'thumbnails': [{'url': 'https://i.ytimg.com/vi/Ls3YB3DY6X8/hq720.jpg?sqp=-oaymwEcCOgCEMoBSFXyq4qpAw4IARUAAIhCGAFwAcABBg==&rs=AOn4CLCyh9WaIzslrA_nrYR8P7WIXKe45Q', 'width': 360, 'height': 202}, {'url': 'https://i.ytimg.com/vi/Ls3YB3DY6X8/hq720.jpg?sqp=-oaymwEcCNAFEJQDSFXyq4qpAw4IARUAAIhCGAFwAcABBg==&rs=AOn4CLApjEX3Fe3EWq6cgY8R9swD4KQQeg', 'width': 720, 'height': 404}], 'richThumbnail': {'url': 'https://i.ytimg.com/an_webp/Ls3YB3DY6X8/mqdefault_6s.webp?du=3000&sqp=CMq7jbsG&rs=AOn4CLAjrHSYFrBLt34DoBse8fc7wVnaow', 'width': 320, 'height': 180}, 'descriptionSnippet': [{'text': 'SUBMIT A '}, {'text': 'VIDEO', 'bold': True}, {'text': ' TO MY WONDERFUL PRODUCER HERE: bozevideosubmissions@gmail.com Streams every Monday unless\\xa0...'}], 'channel': {'name': 'BOZE vs. the WORLD', 'id': 'UCg3RD_n1iRXLiUi2qJszxJg', 'thumbnails': [{'url': 'https://yt3.ggpht.com/sNCssIJRDj9nAdqW2Gq5_5H9gKpFh60Qscpu18PYJ3POoc6u376lF-6cfAdXpwbFFZKSLOtnEg=s68-c-k-c0x00ffffff-no-rj', 'width': 68, 'height': 68}], 'link': 'https://www.youtube.com/channel/UCg3RD_n1iRXLiUi2qJszxJg'}, 'accessibility': {'title': 'karens plaguing society instead of being nice to their families by BOZE vs. the WORLD 753,173 views 2 years ago 17 minutes', 'duration': '17 minutes, 21 seconds'}, 'link': 'https://www.youtube.com/watch?v=Ls3YB3DY6X8', 'shelfTitle': None}, {'type': 'video', 'id': 'VYu8Tm8NpsI', 'title': '10 Hours of BEST OF BODYCAM', 'publishedTime': '5 months ago', 'duration': '10:09:23', 'viewCount': {'text': '693,471 views', 'short': '693K views'}, 'thumbnails': [{'url': 'https://i.ytimg.com/vi/VYu8Tm8NpsI/hq720.jpg?sqp=-oaymwEcCOgCEMoBSFXyq4qpAw4IARUAAIhCGAFwAcABBg==&rs=AOn4CLAS0Fl-5IUKpQhsOpbXuveRMsFYig', 'width': 360, 'height': 202}, {'url': 'https://i.ytimg.com/vi/VYu8Tm8NpsI/hq720.jpg?sqp=-oaymwEcCNAFEJQDSFXyq4qpAw4IARUAAIhCGAFwAcABBg==&rs=AOn4CLCZBLY7Bx2iDUn-AsNNrIV1hP-a-A', 'width': 720, 'height': 404}], 'richThumbnail': {'url': 'https://i.ytimg.com/an_webp/VYu8Tm8NpsI/mqdefault_6s.webp?du=3000&sqp=CIacjbsG&rs=AOn4CLC0hkoIRhNDpk1fRaXrpkPk1DLtuQ', 'width': 320, 'height': 180}, 'descriptionSnippet': [{'text': 'Boze', 'bold': True}, {'text': ' MEGA compilation Best of Bodycam is BACK   Save 20% on your system and your first month is free when you sign up for\\xa0...'}], 'channel': {'name': 'BOZE vs. the WORLD', 'id': 'UCg3RD_n1iRXLiUi2qJszxJg', 'thumbnails': [{'url': 'https://yt3.ggpht.com/sNCssIJRDj9nAdqW2Gq5_5H9gKpFh60Qscpu18PYJ3POoc6u376lF-6cfAdXpwbFFZKSLOtnEg=s68-c-k-c0x00ffffff-no-rj', 'width': 68, 'height': 68}], 'link': 'https://www.youtube.com/channel/UCg3RD_n1iRXLiUi2qJszxJg'}, 'accessibility': {'title': '10 Hours of BEST OF BODYCAM by BOZE vs. the WORLD 693,471 views 5 months ago 10 hours, 9 minutes', 'duration': '10 hours, 9 minutes, 23 seconds'}, 'link': 'https://www.youtube.com/watch?v=VYu8Tm8NpsI', 'shelfTitle': None}, {'type': 'video', 'id': 'pws_CW0WK6I', 'title': 'ALL EVIDENCE revealed in horrific Ruby Franke case', 'publishedTime': '8 months ago', 'duration': '27:33', 'viewCount': {'text': '562,058 views', 'short': '562K views'}, 'thumbnails': [{'url': 'https://i.ytimg.com/vi/pws_CW0WK6I/hq720.jpg?sqp=-oaymwEcCOgCEMoBSFXyq4qpAw4IARUAAIhCGAFwAcABBg==&rs=AOn4CLArHz5uVDVL18BJ4FvJNUIEmbGBhw', 'width': 360, 'height': 202}, {'url': 'https://i.ytimg.com/vi/pws_CW0WK6I/hq720.jpg?sqp=-oaymwEcCNAFEJQDSFXyq4qpAw4IARUAAIhCGAFwAcABBg==&rs=AOn4CLANGtaHX-CjUjUqAZ1oQzW-WezvJA', 'width': 720, 'height': 404}], 'richThumbnail': {'url': 'https://i.ytimg.com/an_webp/pws_CW0WK6I/mqdefault_6s.webp?du=3000&sqp=CIzBjbsG&rs=AOn4CLCQguUE4kY1O-N6EXaGiBssfMHmMw', 'width': 320, 'height': 180}, 'descriptionSnippet': [{'text': 'Part 2 of 4 non-true crime channel & podcast : www.youtube.com/@BOZESBREAKROOM live on mondays @ 4PM pst!'}], 'channel': {'name': 'BOZE vs. the WORLD', 'id': 'UCg3RD_n1iRXLiUi2qJszxJg', 'thumbnails': [{'url': 'https://yt3.ggpht.com/sNCssIJRDj9nAdqW2Gq5_5H9gKpFh60Qscpu18PYJ3POoc6u376lF-6cfAdXpwbFFZKSLOtnEg=s68-c-k-c0x00ffffff-no-rj', 'width': 68, 'height': 68}], 'link': 'https://www.youtube.com/channel/UCg3RD_n1iRXLiUi2qJszxJg'}, 'accessibility': {'title': 'ALL EVIDENCE revealed in horrific Ruby Franke case by BOZE vs. the WORLD 562,058 views 8 months ago 27 minutes', 'duration': '27 minutes, 33 seconds'}, 'link': 'https://www.youtube.com/watch?v=pws_CW0WK6I', 'shelfTitle': None}, {'type': 'video', 'id': 'yHVU_qgoFP8', 'title': \"SARAH BOONE is FURIOUS that Everyone Won't Just Forget She Killed Her Boyfriend\", 'publishedTime': '2 weeks ago', 'duration': '33:18', 'viewCount': {'text': '333,355 views', 'short': '333K views'}, 'thumbnails': [{'url': 'https://i.ytimg.com/vi/yHVU_qgoFP8/hq720.jpg?sqp=-oaymwEcCOgCEMoBSFXyq4qpAw4IARUAAIhCGAFwAcABBg==&rs=AOn4CLDRo7Ry6FBc0aB2qimR6VR1rmCe6w', 'width': 360, 'height': 202}, {'url': 'https://i.ytimg.com/vi/yHVU_qgoFP8/hq720.jpg?sqp=-oaymwEcCNAFEJQDSFXyq4qpAw4IARUAAIhCGAFwAcABBg==&rs=AOn4CLBCJt_URejSF1vgZr1skrFnH0AEEQ', 'width': 720, 'height': 404}], 'richThumbnail': {'url': 'https://i.ytimg.com/an_webp/yHVU_qgoFP8/mqdefault_6s.webp?du=3000&sqp=CKWgjbsG&rs=AOn4CLBzQ-fC97Xo5XKznukfVtsoh2Z1xw', 'width': 320, 'height': 180}, 'descriptionSnippet': [{'text': \"Streams on Monday unless i'm out of town! I post regularly on INSTAGRAM - http://instagram.com/bigbossboze TIKTOK\\xa0...\"}], 'channel': {'name': 'BOZE vs. the WORLD', 'id': 'UCg3RD_n1iRXLiUi2qJszxJg', 'thumbnails': [{'url': 'https://yt3.ggpht.com/sNCssIJRDj9nAdqW2Gq5_5H9gKpFh60Qscpu18PYJ3POoc6u376lF-6cfAdXpwbFFZKSLOtnEg=s68-c-k-c0x00ffffff-no-rj', 'width': 68, 'height': 68}], 'link': 'https://www.youtube.com/channel/UCg3RD_n1iRXLiUi2qJszxJg'}, 'accessibility': {'title': \"SARAH BOONE is FURIOUS that Everyone Won't Just Forget She Killed Her Boyfriend by BOZE vs. the WORLD 333,355 views 2 weeks ago 33 minutes\", 'duration': '33 minutes, 18 seconds'}, 'link': 'https://www.youtube.com/watch?v=yHVU_qgoFP8', 'shelfTitle': None}, {'type': 'video', 'id': '_ZUx2e-W3rE', 'title': 'can robots feel pain?', 'publishedTime': '1 year ago', 'duration': '0:26', 'viewCount': {'text': '7,841,770 views', 'short': '7.8M views'}, 'thumbnails': [{'url': 'https://i.ytimg.com/vi/_ZUx2e-W3rE/hq720.jpg?sqp=-oaymwE2COgCEMoBSFXyq4qpAygIARUAAIhCGABwAcABBvABAfgBtgiAAoAPigIMCAAQARhYIEIofzAP&rs=AOn4CLAqw47LXT9-x_CZHKZ_s3gFCZ7aKg', 'width': 360, 'height': 202}, {'url': 'https://i.ytimg.com/vi/_ZUx2e-W3rE/hq720.jpg?sqp=-oaymwE2CNAFEJQDSFXyq4qpAygIARUAAIhCGABwAcABBvABAfgBtgiAAoAPigIMCAAQARhYIEIofzAP&rs=AOn4CLDNiNKhYJ2WZ4z6pnkvWm439kwExA', 'width': 720, 'height': 404}], 'richThumbnail': {'url': 'https://i.ytimg.com/an_webp/_ZUx2e-W3rE/mqdefault_6s.webp?du=3000&sqp=CLiujbsG&rs=AOn4CLD6L1V0WeN4cV9DAI--nxqAgiQfxQ', 'width': 320, 'height': 180}, 'descriptionSnippet': None, 'channel': {'name': 'BOZE vs. the WORLD', 'id': 'UCg3RD_n1iRXLiUi2qJszxJg', 'thumbnails': [{'url': 'https://yt3.ggpht.com/sNCssIJRDj9nAdqW2Gq5_5H9gKpFh60Qscpu18PYJ3POoc6u376lF-6cfAdXpwbFFZKSLOtnEg=s68-c-k-c0x00ffffff-no-rj', 'width': 68, 'height': 68}], 'link': 'https://www.youtube.com/channel/UCg3RD_n1iRXLiUi2qJszxJg'}, 'accessibility': {'title': 'can robots feel pain? by BOZE vs. the WORLD 7,841,770 views 1 year ago 26 seconds - play Short', 'duration': '26 seconds'}, 'link': 'https://www.youtube.com/watch?v=_ZUx2e-W3rE', 'shelfTitle': None}, {'type': 'video', 'id': '-YYTnQ8yWlI', 'title': 'this tiktok scandal was TOO INSANE to ignore', 'publishedTime': '1 month ago', 'duration': '26:02', 'viewCount': {'text': '370,620 views', 'short': '370K views'}, 'thumbnails': [{'url': 'https://i.ytimg.com/vi/-YYTnQ8yWlI/hq720.jpg?sqp=-oaymwEcCOgCEMoBSFXyq4qpAw4IARUAAIhCGAFwAcABBg==&rs=AOn4CLBJJxr5mT-nM_hu_etc2WMwTggRRg', 'width': 360, 'height': 202}, {'url': 'https://i.ytimg.com/vi/-YYTnQ8yWlI/hq720.jpg?sqp=-oaymwEcCNAFEJQDSFXyq4qpAw4IARUAAIhCGAFwAcABBg==&rs=AOn4CLAviCz5989qs48Y7jru3NXARyibQg', 'width': 720, 'height': 404}], 'richThumbnail': {'url': 'https://i.ytimg.com/an_webp/-YYTnQ8yWlI/mqdefault_6s.webp?du=3000&sqp=CMqZjbsG&rs=AOn4CLB-a-1q3rBIhRUbmc_NboSybWEYcg', 'width': 320, 'height': 180}, 'descriptionSnippet': [{'text': \"Streams on Monday unless i'm out of town! I post regularly on INSTAGRAM - http://instagram.com/bigbossboze TIKTOK\\xa0...\"}], 'channel': {'name': 'BOZE vs. the WORLD', 'id': 'UCg3RD_n1iRXLiUi2qJszxJg', 'thumbnails': [{'url': 'https://yt3.ggpht.com/sNCssIJRDj9nAdqW2Gq5_5H9gKpFh60Qscpu18PYJ3POoc6u376lF-6cfAdXpwbFFZKSLOtnEg=s68-c-k-c0x00ffffff-no-rj', 'width': 68, 'height': 68}], 'link': 'https://www.youtube.com/channel/UCg3RD_n1iRXLiUi2qJszxJg'}, 'accessibility': {'title': 'this tiktok scandal was TOO INSANE to ignore by BOZE vs. the WORLD 370,620 views 1 month ago 26 minutes', 'duration': '26 minutes, 2 seconds'}, 'link': 'https://www.youtube.com/watch?v=-YYTnQ8yWlI', 'shelfTitle': None}, {'type': 'video', 'id': 'LaXBu7J3-dw', 'title': 'LOSING MY MIND over this BREAKUP video', 'publishedTime': '2 years ago', 'duration': '31:54', 'viewCount': {'text': '1,030,738 views', 'short': '1M views'}, 'thumbnails': [{'url': 'https://i.ytimg.com/vi/LaXBu7J3-dw/hq720.jpg?sqp=-oaymwEcCOgCEMoBSFXyq4qpAw4IARUAAIhCGAFwAcABBg==&rs=AOn4CLDWRLC_B49ExFA0A7c0EdXyBCMfiA', 'width': 360, 'height': 202}, {'url': 'https://i.ytimg.com/vi/LaXBu7J3-dw/hq720.jpg?sqp=-oaymwEcCNAFEJQDSFXyq4qpAw4IARUAAIhCGAFwAcABBg==&rs=AOn4CLB6JVEqParW41V6p_T9PXfdwj6vPQ', 'width': 720, 'height': 404}], 'richThumbnail': {'url': 'https://i.ytimg.com/an_webp/LaXBu7J3-dw/mqdefault_6s.webp?du=3000&sqp=CIDEjbsG&rs=AOn4CLCk2wAs7j8q3Fn1VJ4l67hf618xFg', 'width': 320, 'height': 180}, 'descriptionSnippet': [{'text': 'FULL 3+ HR STREAMS AVAILABLE ON TWITCH TO SUBSCRIBERS. Subscriptions on Twitch are FREE if you connect your\\xa0...'}], 'channel': {'name': 'BOZE vs. the WORLD', 'id': 'UCg3RD_n1iRXLiUi2qJszxJg', 'thumbnails': [{'url': 'https://yt3.ggpht.com/sNCssIJRDj9nAdqW2Gq5_5H9gKpFh60Qscpu18PYJ3POoc6u376lF-6cfAdXpwbFFZKSLOtnEg=s68-c-k-c0x00ffffff-no-rj', 'width': 68, 'height': 68}], 'link': 'https://www.youtube.com/channel/UCg3RD_n1iRXLiUi2qJszxJg'}, 'accessibility': {'title': 'LOSING MY MIND over this BREAKUP video by BOZE vs. the WORLD 1,030,738 views 2 years ago 31 minutes', 'duration': '31 minutes, 54 seconds'}, 'link': 'https://www.youtube.com/watch?v=LaXBu7J3-dw', 'shelfTitle': None}, {'type': 'video', 'id': 'PzBOt7LyNLk', 'title': 'Killer Teen Had Multiple BURNER PHONES before Shooting Parents', 'publishedTime': '2 months ago', 'duration': '25:44', 'viewCount': {'text': '559,408 views', 'short': '559K views'}, 'thumbnails': [{'url': 'https://i.ytimg.com/vi/PzBOt7LyNLk/hq720.jpg?sqp=-oaymwEcCOgCEMoBSFXyq4qpAw4IARUAAIhCGAFwAcABBg==&rs=AOn4CLAqxLnK7QlA41E-kn5Q90fpd7MQ7w', 'width': 360, 'height': 202}, {'url': 'https://i.ytimg.com/vi/PzBOt7LyNLk/hq720.jpg?sqp=-oaymwEcCNAFEJQDSFXyq4qpAw4IARUAAIhCGAFwAcABBg==&rs=AOn4CLDZKNE-N_KC-nW2gMDF5IQLV5M6OQ', 'width': 720, 'height': 404}], 'richThumbnail': {'url': 'https://i.ytimg.com/an_webp/PzBOt7LyNLk/mqdefault_6s.webp?du=3000&sqp=CKPTjbsG&rs=AOn4CLC10Q7miWyDYlp5JZ6_9wCfgFUaKA', 'width': 320, 'height': 180}, 'descriptionSnippet': [{'text': 'Attorneys for Carly Gregg are ALREADY seeking a new trial... does Carly deserve one? 2nd true crime channel:\\xa0...'}], 'channel': {'name': 'BOZE vs. the WORLD', 'id': 'UCg3RD_n1iRXLiUi2qJszxJg', 'thumbnails': [{'url': 'https://yt3.ggpht.com/sNCssIJRDj9nAdqW2Gq5_5H9gKpFh60Qscpu18PYJ3POoc6u376lF-6cfAdXpwbFFZKSLOtnEg=s68-c-k-c0x00ffffff-no-rj', 'width': 68, 'height': 68}], 'link': 'https://www.youtube.com/channel/UCg3RD_n1iRXLiUi2qJszxJg'}, 'accessibility': {'title': 'Killer Teen Had Multiple BURNER PHONES before Shooting Parents by BOZE vs. the WORLD 559,408 views 2 months ago 25 minutes', 'duration': '25 minutes, 44 seconds'}, 'link': 'https://www.youtube.com/watch?v=PzBOt7LyNLk', 'shelfTitle': None}, {'type': 'video', 'id': 'crC0in-A4R4', 'title': 'interrogators set a trap for lying Sarah Boone', 'publishedTime': '1 year ago', 'duration': '44:15', 'viewCount': {'text': '1,054,279 views', 'short': '1M views'}, 'thumbnails': [{'url': 'https://i.ytimg.com/vi/crC0in-A4R4/hq720.jpg?sqp=-oaymwEcCOgCEMoBSFXyq4qpAw4IARUAAIhCGAFwAcABBg==&rs=AOn4CLCtixeLGCpo4_FBdXU_YXTTt61IXg', 'width': 360, 'height': 202}, {'url': 'https://i.ytimg.com/vi/crC0in-A4R4/hq720.jpg?sqp=-oaymwEcCNAFEJQDSFXyq4qpAw4IARUAAIhCGAFwAcABBg==&rs=AOn4CLDb_BzqlLQzrWgYLKQhM6NbYElG8A', 'width': 720, 'height': 404}], 'richThumbnail': {'url': 'https://i.ytimg.com/an_webp/crC0in-A4R4/mqdefault_6s.webp?du=3000&sqp=CKiwjbsG&rs=AOn4CLAMIXk18hLvDNAePS2RuSRdIXJCgA', 'width': 320, 'height': 180}, 'descriptionSnippet': [{'text': 'SUBMIT A '}, {'text': 'VIDEO', 'bold': True}, {'text': ' TO MY WONDERFUL PRODUCER HERE: bozevideosubmissions@gmail.com Streams every Monday unless\\xa0...'}], 'channel': {'name': 'BOZE vs. the WORLD', 'id': 'UCg3RD_n1iRXLiUi2qJszxJg', 'thumbnails': [{'url': 'https://yt3.ggpht.com/sNCssIJRDj9nAdqW2Gq5_5H9gKpFh60Qscpu18PYJ3POoc6u376lF-6cfAdXpwbFFZKSLOtnEg=s68-c-k-c0x00ffffff-no-rj', 'width': 68, 'height': 68}], 'link': 'https://www.youtube.com/channel/UCg3RD_n1iRXLiUi2qJszxJg'}, 'accessibility': {'title': 'interrogators set a trap for lying Sarah Boone by BOZE vs. the WORLD 1,054,279 views 1 year ago 44 minutes', 'duration': '44 minutes, 15 seconds'}, 'link': 'https://www.youtube.com/watch?v=crC0in-A4R4', 'shelfTitle': None}, {'type': 'video', 'id': 'fMdv3co8Kt8', 'title': 'when TOXIC girlfriend meets boyfriends PROTECTIVE SISTER', 'publishedTime': '8 months ago', 'duration': '23:39', 'viewCount': {'text': '717,013 views', 'short': '717K views'}, 'thumbnails': [{'url': 'https://i.ytimg.com/vi/fMdv3co8Kt8/hq720.jpg?sqp=-oaymwEcCOgCEMoBSFXyq4qpAw4IARUAAIhCGAFwAcABBg==&rs=AOn4CLBi-UUZ7ZtDa617XXLvUj48ivnZmA', 'width': 360, 'height': 202}, {'url': 'https://i.ytimg.com/vi/fMdv3co8Kt8/hq720.jpg?sqp=-oaymwEcCNAFEJQDSFXyq4qpAw4IARUAAIhCGAFwAcABBg==&rs=AOn4CLDxm6PSa7kvw_J4ugUSmBsvRaInAg', 'width': 720, 'height': 404}], 'richThumbnail': {'url': 'https://i.ytimg.com/an_webp/fMdv3co8Kt8/mqdefault_6s.webp?du=3000&sqp=CMPQjbsG&rs=AOn4CLAnQNtFq1KQFVusuR1-oF166WsMdQ', 'width': 320, 'height': 180}, 'descriptionSnippet': [{'text': 'Real Body Cams: www.youtube.com/@RealBodyCams live on mondays @ 4PM pst! http://twitch.tv/bigbossboze | FULL 3+ HR\\xa0...'}], 'channel': {'name': 'BOZE vs. the WORLD', 'id': 'UCg3RD_n1iRXLiUi2qJszxJg', 'thumbnails': [{'url': 'https://yt3.ggpht.com/sNCssIJRDj9nAdqW2Gq5_5H9gKpFh60Qscpu18PYJ3POoc6u376lF-6cfAdXpwbFFZKSLOtnEg=s68-c-k-c0x00ffffff-no-rj', 'width': 68, 'height': 68}], 'link': 'https://www.youtube.com/channel/UCg3RD_n1iRXLiUi2qJszxJg'}, 'accessibility': {'title': 'when TOXIC girlfriend meets boyfriends PROTECTIVE SISTER by BOZE vs. the WORLD 717,013 views 8 months ago 23 minutes', 'duration': '23 minutes, 39 seconds'}, 'link': 'https://www.youtube.com/watch?v=fMdv3co8Kt8', 'shelfTitle': None}, {'type': 'video', 'id': 'ogTk_XL7r_8', 'title': 'INSANE narcissistic YouTuber can’t lie her way out of this', 'publishedTime': '2 years ago', 'duration': '46:47', 'viewCount': {'text': '2,213,354 views', 'short': '2.2M views'}, 'thumbnails': [{'url': 'https://i.ytimg.com/vi/ogTk_XL7r_8/hq720.jpg?sqp=-oaymwEcCOgCEMoBSFXyq4qpAw4IARUAAIhCGAFwAcABBg==&rs=AOn4CLCOGwTb4d3J_lWTZPU6q7e2UTvdnA', 'width': 360, 'height': 202}, {'url': 'https://i.ytimg.com/vi/ogTk_XL7r_8/hq720.jpg?sqp=-oaymwEcCNAFEJQDSFXyq4qpAw4IARUAAIhCGAFwAcABBg==&rs=AOn4CLDOcXBLm25qjdBCrOTZHt0aGYYlSA', 'width': 720, 'height': 404}], 'richThumbnail': {'url': 'https://i.ytimg.com/an_webp/ogTk_XL7r_8/mqdefault_6s.webp?du=3000&sqp=CNDJjbsG&rs=AOn4CLCG7FLokbRpgpOFIbrT5dVP3S3zhg', 'width': 320, 'height': 180}, 'descriptionSnippet': [{'text': 'SUBMIT A '}, {'text': 'VIDEO', 'bold': True}, {'text': ' TO MY WONDERFUL PRODUCER HERE: bozevideosubmissions@gmail.com Streams every Monday unless\\xa0...'}], 'channel': {'name': 'BOZE vs. the WORLD', 'id': 'UCg3RD_n1iRXLiUi2qJszxJg', 'thumbnails': [{'url': 'https://yt3.ggpht.com/sNCssIJRDj9nAdqW2Gq5_5H9gKpFh60Qscpu18PYJ3POoc6u376lF-6cfAdXpwbFFZKSLOtnEg=s68-c-k-c0x00ffffff-no-rj', 'width': 68, 'height': 68}], 'link': 'https://www.youtube.com/channel/UCg3RD_n1iRXLiUi2qJszxJg'}, 'accessibility': {'title': 'INSANE narcissistic YouTuber can’t lie her way out of this by BOZE vs. the WORLD 2,213,354 views 2 years ago 46 minutes', 'duration': '46 minutes, 47 seconds'}, 'link': 'https://www.youtube.com/watch?v=ogTk_XL7r_8', 'shelfTitle': None}, {'type': 'video', 'id': 'bbBogEPYXbw', 'title': 'religious fanatic DECAPITATES mentally ill FRIEND over $250,000 | Jemma Mitchell', 'publishedTime': '6 months ago', 'duration': '1:00:57', 'viewCount': {'text': '592,504 views', 'short': '592K views'}, 'thumbnails': [{'url': 'https://i.ytimg.com/vi/bbBogEPYXbw/hq720.jpg?sqp=-oaymwEcCOgCEMoBSFXyq4qpAw4IARUAAIhCGAFwAcABBg==&rs=AOn4CLBy-kkFI9G_zkZ6K9CdHy1sybkfvg', 'width': 360, 'height': 202}, {'url': 'https://i.ytimg.com/vi/bbBogEPYXbw/hq720.jpg?sqp=-oaymwEcCNAFEJQDSFXyq4qpAw4IARUAAIhCGAFwAcABBg==&rs=AOn4CLAq5Wq09Sc2wlwhN_ZubUEhxHnxQg', 'width': 720, 'height': 404}], 'richThumbnail': {'url': 'https://i.ytimg.com/an_webp/bbBogEPYXbw/mqdefault_6s.webp?du=3000&sqp=CIy4jbsG&rs=AOn4CLAQnBpEpg4uO5KrmOeX-4C5b876IA', 'width': 320, 'height': 180}, 'descriptionSnippet': [{'text': 'Jemma Mitchell wanted to heal people through faith - and when another devout Christian is drawn to her, she helps.'}], 'channel': {'name': 'BOZE vs. the WORLD', 'id': 'UCg3RD_n1iRXLiUi2qJszxJg', 'thumbnails': [{'url': 'https://yt3.ggpht.com/sNCssIJRDj9nAdqW2Gq5_5H9gKpFh60Qscpu18PYJ3POoc6u376lF-6cfAdXpwbFFZKSLOtnEg=s68-c-k-c0x00ffffff-no-rj', 'width': 68, 'height': 68}], 'link': 'https://www.youtube.com/channel/UCg3RD_n1iRXLiUi2qJszxJg'}, 'accessibility': {'title': 'religious fanatic DECAPITATES mentally ill FRIEND over $250,000 | Jemma Mitchell by BOZE vs. the WORLD 592,504 views 6 months ago 1 hour', 'duration': '1 hour, 57 seconds'}, 'link': 'https://www.youtube.com/watch?v=bbBogEPYXbw', 'shelfTitle': None}, {'type': 'video', 'id': 'lugA4PKXhaU', 'title': 'INSANE emotionally manipulative women GASLIGHT you for 1 HOUR | best of BODYCAM', 'publishedTime': '1 month ago', 'duration': '55:51', 'viewCount': {'text': '420,301 views', 'short': '420K views'}, 'thumbnails': [{'url': 'https://i.ytimg.com/vi/lugA4PKXhaU/hq720.jpg?sqp=-oaymwEcCOgCEMoBSFXyq4qpAw4IARUAAIhCGAFwAcABBg==&rs=AOn4CLCwk-Hq022OO43u5v1N3pid8AYPTA', 'width': 360, 'height': 202}, {'url': 'https://i.ytimg.com/vi/lugA4PKXhaU/hq720.jpg?sqp=-oaymwEcCNAFEJQDSFXyq4qpAw4IARUAAIhCGAFwAcABBg==&rs=AOn4CLDNsc_fUv5E503-dZacYTiIjyy92A', 'width': 720, 'height': 404}], 'richThumbnail': {'url': 'https://i.ytimg.com/an_webp/lugA4PKXhaU/mqdefault_6s.webp?du=3000&sqp=CJrMjbsG&rs=AOn4CLCi7w9-cIw7UqvVUYwdk1qEHg95jw', 'width': 320, 'height': 180}, 'descriptionSnippet': [{'text': \"Streams on Monday unless i'm out of town! I post regularly on INSTAGRAM - http://instagram.com/bigbossboze TIKTOK\\xa0...\"}], 'channel': {'name': 'BOZE vs. the WORLD', 'id': 'UCg3RD_n1iRXLiUi2qJszxJg', 'thumbnails': [{'url': 'https://yt3.ggpht.com/sNCssIJRDj9nAdqW2Gq5_5H9gKpFh60Qscpu18PYJ3POoc6u376lF-6cfAdXpwbFFZKSLOtnEg=s68-c-k-c0x00ffffff-no-rj', 'width': 68, 'height': 68}], 'link': 'https://www.youtube.com/channel/UCg3RD_n1iRXLiUi2qJszxJg'}, 'accessibility': {'title': 'INSANE emotionally manipulative women GASLIGHT you for 1 HOUR | best of BODYCAM by BOZE vs. the WORLD 420,301 views 1 month ago 55 minutes', 'duration': '55 minutes, 51 seconds'}, 'link': 'https://www.youtube.com/watch?v=lugA4PKXhaU', 'shelfTitle': None}]}\n"
     ]
    }
   ],
   "source": [
    "search_other = VideosSearch('Boze vs The World videos site:youtube.com', limit=50)\n",
    "other_results = search_other.result()\n",
    "\n",
    "print(other_results)"
   ]
  },
  {
   "cell_type": "code",
   "execution_count": 64,
   "id": "e7964dd1-2d7d-4f4e-8365-6e16a6d7bde8",
   "metadata": {},
   "outputs": [
    {
     "name": "stdout",
     "output_type": "stream",
     "text": [
      "Video Title: young LOVE SICK girl ordered to be SHOT ON SIGHT by FBI (Bonnie Parker)\n",
      "Video Link: https://www.youtube.com/watch?v=xrNcTI5dvCc\n",
      "View Count: 201,630 views\n",
      "--------------------------------------------------\n",
      "Video Title: tiktoker tries to DESTROY business and gets hit with SECURITY FOOTAGE\n",
      "Video Link: https://www.youtube.com/watch?v=vJ9anfUDGeo\n",
      "View Count: 546,315 views\n",
      "--------------------------------------------------\n",
      "Video Title: deranged STALKER thinks the UNIVERSE gave him a sign\n",
      "Video Link: https://www.youtube.com/watch?v=CvY-qWdZ7Tw\n",
      "View Count: 187,327 views\n",
      "--------------------------------------------------\n",
      "Video Title: A Very Karen Christmas\n",
      "Video Link: https://www.youtube.com/watch?v=yn7zW-T8hAI\n",
      "View Count: 589,228 views\n",
      "--------------------------------------------------\n",
      "Video Title: SINISTER: Love Me, Love ME, LOVE ME (Sheila Davalloo)\n",
      "Video Link: https://www.youtube.com/watch?v=uuI2J8FEiDc\n",
      "View Count: 300,499 views\n",
      "--------------------------------------------------\n",
      "Video Title: ex-christian curiously watches mormon tiktok mom drama\n",
      "Video Link: https://www.youtube.com/watch?v=ZjTdEjQ1HK8\n",
      "View Count: 887,858 views\n",
      "--------------------------------------------------\n",
      "Video Title: famous TIKTOK couple has DARK past resurfaced\n",
      "Video Link: https://www.youtube.com/watch?v=CLDgXtMi9SU\n",
      "View Count: 372,406 views\n",
      "--------------------------------------------------\n",
      "Video Title: karens plaguing society instead of being nice to their families\n",
      "Video Link: https://www.youtube.com/watch?v=Ls3YB3DY6X8\n",
      "View Count: 753,173 views\n",
      "--------------------------------------------------\n",
      "Video Title: 10 Hours of BEST OF BODYCAM\n",
      "Video Link: https://www.youtube.com/watch?v=VYu8Tm8NpsI\n",
      "View Count: 693,471 views\n",
      "--------------------------------------------------\n",
      "Video Title: ALL EVIDENCE revealed in horrific Ruby Franke case\n",
      "Video Link: https://www.youtube.com/watch?v=pws_CW0WK6I\n",
      "View Count: 562,058 views\n",
      "--------------------------------------------------\n",
      "Video Title: SARAH BOONE is FURIOUS that Everyone Won't Just Forget She Killed Her Boyfriend\n",
      "Video Link: https://www.youtube.com/watch?v=yHVU_qgoFP8\n",
      "View Count: 333,355 views\n",
      "--------------------------------------------------\n",
      "Video Title: can robots feel pain?\n",
      "Video Link: https://www.youtube.com/watch?v=_ZUx2e-W3rE\n",
      "View Count: 7,841,770 views\n",
      "--------------------------------------------------\n",
      "Video Title: this tiktok scandal was TOO INSANE to ignore\n",
      "Video Link: https://www.youtube.com/watch?v=-YYTnQ8yWlI\n",
      "View Count: 370,620 views\n",
      "--------------------------------------------------\n",
      "Video Title: LOSING MY MIND over this BREAKUP video\n",
      "Video Link: https://www.youtube.com/watch?v=LaXBu7J3-dw\n",
      "View Count: 1,030,738 views\n",
      "--------------------------------------------------\n",
      "Video Title: Killer Teen Had Multiple BURNER PHONES before Shooting Parents\n",
      "Video Link: https://www.youtube.com/watch?v=PzBOt7LyNLk\n",
      "View Count: 559,408 views\n",
      "--------------------------------------------------\n",
      "Video Title: interrogators set a trap for lying Sarah Boone\n",
      "Video Link: https://www.youtube.com/watch?v=crC0in-A4R4\n",
      "View Count: 1,054,279 views\n",
      "--------------------------------------------------\n",
      "Video Title: when TOXIC girlfriend meets boyfriends PROTECTIVE SISTER\n",
      "Video Link: https://www.youtube.com/watch?v=fMdv3co8Kt8\n",
      "View Count: 717,013 views\n",
      "--------------------------------------------------\n",
      "Video Title: INSANE narcissistic YouTuber can’t lie her way out of this\n",
      "Video Link: https://www.youtube.com/watch?v=ogTk_XL7r_8\n",
      "View Count: 2,213,354 views\n",
      "--------------------------------------------------\n",
      "Video Title: religious fanatic DECAPITATES mentally ill FRIEND over $250,000 | Jemma Mitchell\n",
      "Video Link: https://www.youtube.com/watch?v=bbBogEPYXbw\n",
      "View Count: 592,504 views\n",
      "--------------------------------------------------\n",
      "Video Title: INSANE emotionally manipulative women GASLIGHT you for 1 HOUR | best of BODYCAM\n",
      "Video Link: https://www.youtube.com/watch?v=lugA4PKXhaU\n",
      "View Count: 420,301 views\n",
      "--------------------------------------------------\n"
     ]
    }
   ],
   "source": [
    "for video_info in other_results['result']:\n",
    "    video_title = video_info['title']\n",
    "    video_link = video_info['link']\n",
    "    view_count = video_info['viewCount']['text']\n",
    "\n",
    "    print(f\"Video Title: {video_title}\")\n",
    "    print(f\"Video Link: {video_link}\")\n",
    "    print(f\"View Count: {view_count}\")\n",
    "    print(\"-\" * 50)\n",
    "    "
   ]
  },
  {
   "cell_type": "code",
   "execution_count": 70,
   "id": "8b916e88-18cd-4bd1-8882-8018aedc10b6",
   "metadata": {},
   "outputs": [
    {
     "name": "stdout",
     "output_type": "stream",
     "text": [
      "Sinister Playlist View Counts: [10694396, 7978809, 7823717, 416305, 2686988, 363850, 355427, 4284867, 39099, 214066, 340075, 889520, 208934, 754317, 1554328, 148971, 1787464, 498743, 463241]\n",
      "Other Videos View Counts: [201630, 546315, 187327, 589228, 300499, 887858, 372406, 753173, 693471, 562058, 333355, 7841770, 370620, 1030738, 559408, 1054279, 717013, 2213354, 592504, 420301]\n"
     ]
    }
   ],
   "source": [
    "sinister_view_counts = [] \n",
    "other_view_counts = []  \n",
    "\n",
    "for video_info in sinister_results['result']:\n",
    "    view_count = int(video_info['viewCount']['text'].split()[0].replace(',', ''))\n",
    "    sinister_view_counts.append(view_count)\n",
    "\n",
    "\n",
    "for video_info in other_results['result']:\n",
    "    view_count = int(video_info['viewCount']['text'].split()[0].replace(',', ''))\n",
    "    other_view_counts.append(view_count)\n",
    "\n",
    "print(\"Sinister Playlist View Counts:\", sinister_view_counts)\n",
    "print(\"Other Videos View Counts:\", other_view_counts)\n"
   ]
  },
  {
   "cell_type": "code",
   "execution_count": 76,
   "id": "d09b5438-74b9-4b88-aa03-26d537a25b73",
   "metadata": {},
   "outputs": [
    {
     "name": "stdout",
     "output_type": "stream",
     "text": [
      "Avergae View Count for Sinister Playlist: 2184374.58\n",
      "Avergae View Counts for Other Videos: 1011365.35\n"
     ]
    }
   ],
   "source": [
    "sinister_avergae = sum(sinister_view_counts) / len(sinister_view_counts) if sinister_view_counts else 0\n",
    "other_average = sum(other_view_counts) / len(other_view_counts) if other_view_counts else 0\n",
    "\n",
    "print(f\"Avergae View Count for Sinister Playlist: {sinister_avergae:.2f}\")\n",
    "print(f\"Avergae View Counts for Other Videos: {other_average:.2f}\")"
   ]
  },
  {
   "cell_type": "code",
   "execution_count": 82,
   "id": "fb9d8294-04c9-4989-8a56-a3e3df3a3da3",
   "metadata": {},
   "outputs": [
    {
     "data": {
      "image/png": "[encoded data removed]",
      "text/plain": [
       "<Figure size 640x480 with 1 Axes>"
      ]
     },
     "metadata": {},
     "output_type": "display_data"
    }
   ],
   "source": [
    "import matplotlib.pyplot as plt\n",
    "\n",
    "categories = ['Sinister Playlist', 'Other Videos']\n",
    "averages = [sinister_avergae, other_average]\n",
    "\n",
    "plt.bar(categories, averages, color=['pink', 'purple'])\n",
    "\n",
    "plt.title('Average View Counts: Sinister vs Other Videos')\n",
    "plt.ylabel('Avergae Views')\n",
    "plt.xlabel('Video Categories')\n",
    "\n",
    "plt.savefig('avergae_views_counts.png', format='png', dpi=300)\n",
    "\n",
    "plt.show()"
   ]
  },
  {
   "cell_type": "code",
   "execution_count": null,
   "id": "af01d2a7-2e8b-4393-9e87-b62aa2502c86",
   "metadata": {},
   "outputs": [],
   "source": []
  }
 ],
 "metadata": {
  "kernelspec": {
   "display_name": "Python [conda env:base] *",
   "language": "python",
   "name": "conda-base-py"
  },
  "language_info": {
   "codemirror_mode": {
    "name": "ipython",
    "version": 3
   },
   "file_extension": ".py",
   "mimetype": "text/x-python",
   "name": "python",
   "nbconvert_exporter": "python",
   "pygments_lexer": "ipython3",
   "version": "3.12.7"
  }
 },
 "nbformat": 4,
 "nbformat_minor": 5
}
